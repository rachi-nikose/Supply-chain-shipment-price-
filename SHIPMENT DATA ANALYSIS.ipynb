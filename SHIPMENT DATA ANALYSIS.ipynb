{
 "cells": [
  {
   "cell_type": "code",
   "execution_count": 41,
   "id": "f2ebb78c",
   "metadata": {},
   "outputs": [
    {
     "data": {
      "text/html": [
       "        <script type=\"text/javascript\">\n",
       "        window.PlotlyConfig = {MathJaxConfig: 'local'};\n",
       "        if (window.MathJax && window.MathJax.Hub && window.MathJax.Hub.Config) {window.MathJax.Hub.Config({SVG: {font: \"STIX-Web\"}});}\n",
       "        if (typeof require !== 'undefined') {\n",
       "        require.undef(\"plotly\");\n",
       "        requirejs.config({\n",
       "            paths: {\n",
       "                'plotly': ['https://cdn.plot.ly/plotly-2.14.0.min']\n",
       "            }\n",
       "        });\n",
       "        require(['plotly'], function(Plotly) {\n",
       "            window._Plotly = Plotly;\n",
       "        });\n",
       "        }\n",
       "        </script>\n",
       "        "
      ]
     },
     "metadata": {},
     "output_type": "display_data"
    }
   ],
   "source": [
    "import pandas as pd\n",
    "import numpy as np\n",
    "from decimal import Decimal\n",
    "import matplotlib.pyplot as plt\n",
    "%matplotlib inline\n",
    "import seaborn as sn\n",
    "import os\n",
    "import plotly.graph_objs as go\n",
    "import plotly.offline as py\n",
    "py.init_notebook_mode(connected=True)\n",
    "pd.options.mode.chained_assignment = None\n",
    "pd.options.display.max_columns = 9999\n",
    "pd.options.display.float_format = '{:20,.2f}'.format\n",
    "import warnings\n",
    "warnings.filterwarnings('ignore')"
   ]
  },
  {
   "cell_type": "code",
   "execution_count": 42,
   "id": "f74df4a0",
   "metadata": {},
   "outputs": [],
   "source": [
    "df=pd.read_csv(\"D:\\SCMS_Delivery_History_Dataset.csv\")"
   ]
  },
  {
   "cell_type": "code",
   "execution_count": 43,
   "id": "08b8d64d",
   "metadata": {},
   "outputs": [
    {
     "data": {
      "text/html": [
       "<div>\n",
       "<style scoped>\n",
       "    .dataframe tbody tr th:only-of-type {\n",
       "        vertical-align: middle;\n",
       "    }\n",
       "\n",
       "    .dataframe tbody tr th {\n",
       "        vertical-align: top;\n",
       "    }\n",
       "\n",
       "    .dataframe thead th {\n",
       "        text-align: right;\n",
       "    }\n",
       "</style>\n",
       "<table border=\"1\" class=\"dataframe\">\n",
       "  <thead>\n",
       "    <tr style=\"text-align: right;\">\n",
       "      <th></th>\n",
       "      <th>ID</th>\n",
       "      <th>Project Code</th>\n",
       "      <th>PQ #</th>\n",
       "      <th>PO / SO #</th>\n",
       "      <th>ASN/DN #</th>\n",
       "      <th>Country</th>\n",
       "      <th>Managed By</th>\n",
       "      <th>Fulfill Via</th>\n",
       "      <th>Vendor INCO Term</th>\n",
       "      <th>Shipment Mode</th>\n",
       "      <th>PQ First Sent to Client Date</th>\n",
       "      <th>PO Sent to Vendor Date</th>\n",
       "      <th>Scheduled Delivery Date</th>\n",
       "      <th>Delivered to Client Date</th>\n",
       "      <th>Delivery Recorded Date</th>\n",
       "      <th>Product Group</th>\n",
       "      <th>Sub Classification</th>\n",
       "      <th>Vendor</th>\n",
       "      <th>Item Description</th>\n",
       "      <th>Molecule/Test Type</th>\n",
       "      <th>Brand</th>\n",
       "      <th>Dosage</th>\n",
       "      <th>Dosage Form</th>\n",
       "      <th>Unit of Measure (Per Pack)</th>\n",
       "      <th>Line Item Quantity</th>\n",
       "      <th>Line Item Value</th>\n",
       "      <th>Pack Price</th>\n",
       "      <th>Unit Price</th>\n",
       "      <th>Manufacturing Site</th>\n",
       "      <th>First Line Designation</th>\n",
       "      <th>Weight (Kilograms)</th>\n",
       "      <th>Freight Cost (USD)</th>\n",
       "      <th>Line Item Insurance (USD)</th>\n",
       "    </tr>\n",
       "  </thead>\n",
       "  <tbody>\n",
       "    <tr>\n",
       "      <th>0</th>\n",
       "      <td>1</td>\n",
       "      <td>100-CI-T01</td>\n",
       "      <td>Pre-PQ Process</td>\n",
       "      <td>SCMS-4</td>\n",
       "      <td>ASN-8</td>\n",
       "      <td>Côte d'Ivoire</td>\n",
       "      <td>PMO - US</td>\n",
       "      <td>Direct Drop</td>\n",
       "      <td>EXW</td>\n",
       "      <td>Air</td>\n",
       "      <td>Pre-PQ Process</td>\n",
       "      <td>Date Not Captured</td>\n",
       "      <td>2-Jun-06</td>\n",
       "      <td>2-Jun-06</td>\n",
       "      <td>2-Jun-06</td>\n",
       "      <td>HRDT</td>\n",
       "      <td>HIV test</td>\n",
       "      <td>RANBAXY Fine Chemicals LTD.</td>\n",
       "      <td>HIV, Reveal G3 Rapid HIV-1 Antibody Test, 30 T...</td>\n",
       "      <td>HIV, Reveal G3 Rapid HIV-1 Antibody Test</td>\n",
       "      <td>Reveal</td>\n",
       "      <td>NaN</td>\n",
       "      <td>Test kit</td>\n",
       "      <td>30</td>\n",
       "      <td>19</td>\n",
       "      <td>551.00</td>\n",
       "      <td>29.00</td>\n",
       "      <td>0.97</td>\n",
       "      <td>Ranbaxy Fine Chemicals LTD</td>\n",
       "      <td>Yes</td>\n",
       "      <td>13</td>\n",
       "      <td>780.34</td>\n",
       "      <td>NaN</td>\n",
       "    </tr>\n",
       "    <tr>\n",
       "      <th>1</th>\n",
       "      <td>3</td>\n",
       "      <td>108-VN-T01</td>\n",
       "      <td>Pre-PQ Process</td>\n",
       "      <td>SCMS-13</td>\n",
       "      <td>ASN-85</td>\n",
       "      <td>Vietnam</td>\n",
       "      <td>PMO - US</td>\n",
       "      <td>Direct Drop</td>\n",
       "      <td>EXW</td>\n",
       "      <td>Air</td>\n",
       "      <td>Pre-PQ Process</td>\n",
       "      <td>Date Not Captured</td>\n",
       "      <td>14-Nov-06</td>\n",
       "      <td>14-Nov-06</td>\n",
       "      <td>14-Nov-06</td>\n",
       "      <td>ARV</td>\n",
       "      <td>Pediatric</td>\n",
       "      <td>Aurobindo Pharma Limited</td>\n",
       "      <td>Nevirapine 10mg/ml, oral suspension, Bottle, 2...</td>\n",
       "      <td>Nevirapine</td>\n",
       "      <td>Generic</td>\n",
       "      <td>10mg/ml</td>\n",
       "      <td>Oral suspension</td>\n",
       "      <td>240</td>\n",
       "      <td>1000</td>\n",
       "      <td>6,200.00</td>\n",
       "      <td>6.20</td>\n",
       "      <td>0.03</td>\n",
       "      <td>Aurobindo Unit III, India</td>\n",
       "      <td>Yes</td>\n",
       "      <td>358</td>\n",
       "      <td>4521.5</td>\n",
       "      <td>NaN</td>\n",
       "    </tr>\n",
       "    <tr>\n",
       "      <th>2</th>\n",
       "      <td>4</td>\n",
       "      <td>100-CI-T01</td>\n",
       "      <td>Pre-PQ Process</td>\n",
       "      <td>SCMS-20</td>\n",
       "      <td>ASN-14</td>\n",
       "      <td>Côte d'Ivoire</td>\n",
       "      <td>PMO - US</td>\n",
       "      <td>Direct Drop</td>\n",
       "      <td>FCA</td>\n",
       "      <td>Air</td>\n",
       "      <td>Pre-PQ Process</td>\n",
       "      <td>Date Not Captured</td>\n",
       "      <td>27-Aug-06</td>\n",
       "      <td>27-Aug-06</td>\n",
       "      <td>27-Aug-06</td>\n",
       "      <td>HRDT</td>\n",
       "      <td>HIV test</td>\n",
       "      <td>Abbott GmbH &amp; Co. KG</td>\n",
       "      <td>HIV 1/2, Determine Complete HIV Kit, 100 Tests</td>\n",
       "      <td>HIV 1/2, Determine Complete HIV Kit</td>\n",
       "      <td>Determine</td>\n",
       "      <td>NaN</td>\n",
       "      <td>Test kit</td>\n",
       "      <td>100</td>\n",
       "      <td>500</td>\n",
       "      <td>40,000.00</td>\n",
       "      <td>80.00</td>\n",
       "      <td>0.80</td>\n",
       "      <td>ABBVIE GmbH &amp; Co.KG Wiesbaden</td>\n",
       "      <td>Yes</td>\n",
       "      <td>171</td>\n",
       "      <td>1653.78</td>\n",
       "      <td>NaN</td>\n",
       "    </tr>\n",
       "    <tr>\n",
       "      <th>3</th>\n",
       "      <td>15</td>\n",
       "      <td>108-VN-T01</td>\n",
       "      <td>Pre-PQ Process</td>\n",
       "      <td>SCMS-78</td>\n",
       "      <td>ASN-50</td>\n",
       "      <td>Vietnam</td>\n",
       "      <td>PMO - US</td>\n",
       "      <td>Direct Drop</td>\n",
       "      <td>EXW</td>\n",
       "      <td>Air</td>\n",
       "      <td>Pre-PQ Process</td>\n",
       "      <td>Date Not Captured</td>\n",
       "      <td>1-Sep-06</td>\n",
       "      <td>1-Sep-06</td>\n",
       "      <td>1-Sep-06</td>\n",
       "      <td>ARV</td>\n",
       "      <td>Adult</td>\n",
       "      <td>SUN PHARMACEUTICAL INDUSTRIES LTD (RANBAXY LAB...</td>\n",
       "      <td>Lamivudine 150mg, tablets, 60 Tabs</td>\n",
       "      <td>Lamivudine</td>\n",
       "      <td>Generic</td>\n",
       "      <td>150mg</td>\n",
       "      <td>Tablet</td>\n",
       "      <td>60</td>\n",
       "      <td>31920</td>\n",
       "      <td>127,360.80</td>\n",
       "      <td>3.99</td>\n",
       "      <td>0.07</td>\n",
       "      <td>Ranbaxy, Paonta Shahib, India</td>\n",
       "      <td>Yes</td>\n",
       "      <td>1855</td>\n",
       "      <td>16007.06</td>\n",
       "      <td>NaN</td>\n",
       "    </tr>\n",
       "    <tr>\n",
       "      <th>4</th>\n",
       "      <td>16</td>\n",
       "      <td>108-VN-T01</td>\n",
       "      <td>Pre-PQ Process</td>\n",
       "      <td>SCMS-81</td>\n",
       "      <td>ASN-55</td>\n",
       "      <td>Vietnam</td>\n",
       "      <td>PMO - US</td>\n",
       "      <td>Direct Drop</td>\n",
       "      <td>EXW</td>\n",
       "      <td>Air</td>\n",
       "      <td>Pre-PQ Process</td>\n",
       "      <td>Date Not Captured</td>\n",
       "      <td>11-Aug-06</td>\n",
       "      <td>11-Aug-06</td>\n",
       "      <td>11-Aug-06</td>\n",
       "      <td>ARV</td>\n",
       "      <td>Adult</td>\n",
       "      <td>Aurobindo Pharma Limited</td>\n",
       "      <td>Stavudine 30mg, capsules, 60 Caps</td>\n",
       "      <td>Stavudine</td>\n",
       "      <td>Generic</td>\n",
       "      <td>30mg</td>\n",
       "      <td>Capsule</td>\n",
       "      <td>60</td>\n",
       "      <td>38000</td>\n",
       "      <td>121,600.00</td>\n",
       "      <td>3.20</td>\n",
       "      <td>0.05</td>\n",
       "      <td>Aurobindo Unit III, India</td>\n",
       "      <td>Yes</td>\n",
       "      <td>7590</td>\n",
       "      <td>45450.08</td>\n",
       "      <td>NaN</td>\n",
       "    </tr>\n",
       "  </tbody>\n",
       "</table>\n",
       "</div>"
      ],
      "text/plain": [
       "   ID Project Code            PQ # PO / SO # ASN/DN #        Country  \\\n",
       "0   1   100-CI-T01  Pre-PQ Process    SCMS-4    ASN-8  Côte d'Ivoire   \n",
       "1   3   108-VN-T01  Pre-PQ Process   SCMS-13   ASN-85        Vietnam   \n",
       "2   4   100-CI-T01  Pre-PQ Process   SCMS-20   ASN-14  Côte d'Ivoire   \n",
       "3  15   108-VN-T01  Pre-PQ Process   SCMS-78   ASN-50        Vietnam   \n",
       "4  16   108-VN-T01  Pre-PQ Process   SCMS-81   ASN-55        Vietnam   \n",
       "\n",
       "  Managed By  Fulfill Via Vendor INCO Term Shipment Mode  \\\n",
       "0   PMO - US  Direct Drop              EXW           Air   \n",
       "1   PMO - US  Direct Drop              EXW           Air   \n",
       "2   PMO - US  Direct Drop              FCA           Air   \n",
       "3   PMO - US  Direct Drop              EXW           Air   \n",
       "4   PMO - US  Direct Drop              EXW           Air   \n",
       "\n",
       "  PQ First Sent to Client Date PO Sent to Vendor Date Scheduled Delivery Date  \\\n",
       "0               Pre-PQ Process      Date Not Captured                2-Jun-06   \n",
       "1               Pre-PQ Process      Date Not Captured               14-Nov-06   \n",
       "2               Pre-PQ Process      Date Not Captured               27-Aug-06   \n",
       "3               Pre-PQ Process      Date Not Captured                1-Sep-06   \n",
       "4               Pre-PQ Process      Date Not Captured               11-Aug-06   \n",
       "\n",
       "  Delivered to Client Date Delivery Recorded Date Product Group  \\\n",
       "0                 2-Jun-06               2-Jun-06          HRDT   \n",
       "1                14-Nov-06              14-Nov-06           ARV   \n",
       "2                27-Aug-06              27-Aug-06          HRDT   \n",
       "3                 1-Sep-06               1-Sep-06           ARV   \n",
       "4                11-Aug-06              11-Aug-06           ARV   \n",
       "\n",
       "  Sub Classification                                             Vendor  \\\n",
       "0           HIV test                        RANBAXY Fine Chemicals LTD.   \n",
       "1          Pediatric                           Aurobindo Pharma Limited   \n",
       "2           HIV test                               Abbott GmbH & Co. KG   \n",
       "3              Adult  SUN PHARMACEUTICAL INDUSTRIES LTD (RANBAXY LAB...   \n",
       "4              Adult                           Aurobindo Pharma Limited   \n",
       "\n",
       "                                    Item Description  \\\n",
       "0  HIV, Reveal G3 Rapid HIV-1 Antibody Test, 30 T...   \n",
       "1  Nevirapine 10mg/ml, oral suspension, Bottle, 2...   \n",
       "2     HIV 1/2, Determine Complete HIV Kit, 100 Tests   \n",
       "3                 Lamivudine 150mg, tablets, 60 Tabs   \n",
       "4                  Stavudine 30mg, capsules, 60 Caps   \n",
       "\n",
       "                         Molecule/Test Type      Brand   Dosage  \\\n",
       "0  HIV, Reveal G3 Rapid HIV-1 Antibody Test     Reveal      NaN   \n",
       "1                                Nevirapine    Generic  10mg/ml   \n",
       "2       HIV 1/2, Determine Complete HIV Kit  Determine      NaN   \n",
       "3                                Lamivudine    Generic    150mg   \n",
       "4                                 Stavudine    Generic     30mg   \n",
       "\n",
       "       Dosage Form  Unit of Measure (Per Pack)  Line Item Quantity  \\\n",
       "0         Test kit                          30                  19   \n",
       "1  Oral suspension                         240                1000   \n",
       "2         Test kit                         100                 500   \n",
       "3           Tablet                          60               31920   \n",
       "4          Capsule                          60               38000   \n",
       "\n",
       "       Line Item Value           Pack Price           Unit Price  \\\n",
       "0               551.00                29.00                 0.97   \n",
       "1             6,200.00                 6.20                 0.03   \n",
       "2            40,000.00                80.00                 0.80   \n",
       "3           127,360.80                 3.99                 0.07   \n",
       "4           121,600.00                 3.20                 0.05   \n",
       "\n",
       "              Manufacturing Site First Line Designation Weight (Kilograms)  \\\n",
       "0     Ranbaxy Fine Chemicals LTD                    Yes                 13   \n",
       "1      Aurobindo Unit III, India                    Yes                358   \n",
       "2  ABBVIE GmbH & Co.KG Wiesbaden                    Yes                171   \n",
       "3  Ranbaxy, Paonta Shahib, India                    Yes               1855   \n",
       "4      Aurobindo Unit III, India                    Yes               7590   \n",
       "\n",
       "  Freight Cost (USD)  Line Item Insurance (USD)  \n",
       "0             780.34                        NaN  \n",
       "1             4521.5                        NaN  \n",
       "2            1653.78                        NaN  \n",
       "3           16007.06                        NaN  \n",
       "4           45450.08                        NaN  "
      ]
     },
     "execution_count": 43,
     "metadata": {},
     "output_type": "execute_result"
    }
   ],
   "source": [
    "df.head()"
   ]
  },
  {
   "cell_type": "code",
   "execution_count": 44,
   "id": "6f07bbbf",
   "metadata": {},
   "outputs": [
    {
     "data": {
      "text/plain": [
       "(10324, 33)"
      ]
     },
     "execution_count": 44,
     "metadata": {},
     "output_type": "execute_result"
    }
   ],
   "source": [
    "#check shape\n",
    "df.shape"
   ]
  },
  {
   "cell_type": "code",
   "execution_count": 45,
   "id": "3ae55ab9",
   "metadata": {},
   "outputs": [
    {
     "name": "stdout",
     "output_type": "stream",
     "text": [
      "<class 'pandas.core.frame.DataFrame'>\n",
      "RangeIndex: 10324 entries, 0 to 10323\n",
      "Data columns (total 33 columns):\n",
      " #   Column                        Non-Null Count  Dtype  \n",
      "---  ------                        --------------  -----  \n",
      " 0   ID                            10324 non-null  int64  \n",
      " 1   Project Code                  10324 non-null  object \n",
      " 2   PQ #                          10324 non-null  object \n",
      " 3   PO / SO #                     10324 non-null  object \n",
      " 4   ASN/DN #                      10324 non-null  object \n",
      " 5   Country                       10324 non-null  object \n",
      " 6   Managed By                    10324 non-null  object \n",
      " 7   Fulfill Via                   10324 non-null  object \n",
      " 8   Vendor INCO Term              10324 non-null  object \n",
      " 9   Shipment Mode                 9964 non-null   object \n",
      " 10  PQ First Sent to Client Date  10324 non-null  object \n",
      " 11  PO Sent to Vendor Date        10324 non-null  object \n",
      " 12  Scheduled Delivery Date       10324 non-null  object \n",
      " 13  Delivered to Client Date      10324 non-null  object \n",
      " 14  Delivery Recorded Date        10324 non-null  object \n",
      " 15  Product Group                 10324 non-null  object \n",
      " 16  Sub Classification            10324 non-null  object \n",
      " 17  Vendor                        10324 non-null  object \n",
      " 18  Item Description              10324 non-null  object \n",
      " 19  Molecule/Test Type            10324 non-null  object \n",
      " 20  Brand                         10324 non-null  object \n",
      " 21  Dosage                        8588 non-null   object \n",
      " 22  Dosage Form                   10324 non-null  object \n",
      " 23  Unit of Measure (Per Pack)    10324 non-null  int64  \n",
      " 24  Line Item Quantity            10324 non-null  int64  \n",
      " 25  Line Item Value               10324 non-null  float64\n",
      " 26  Pack Price                    10324 non-null  float64\n",
      " 27  Unit Price                    10324 non-null  float64\n",
      " 28  Manufacturing Site            10324 non-null  object \n",
      " 29  First Line Designation        10324 non-null  object \n",
      " 30  Weight (Kilograms)            10324 non-null  object \n",
      " 31  Freight Cost (USD)            10324 non-null  object \n",
      " 32  Line Item Insurance (USD)     10037 non-null  float64\n",
      "dtypes: float64(4), int64(3), object(26)\n",
      "memory usage: 2.6+ MB\n"
     ]
    }
   ],
   "source": [
    "#basic info\n",
    "df.info()"
   ]
  },
  {
   "cell_type": "code",
   "execution_count": 46,
   "id": "f7b6081b",
   "metadata": {},
   "outputs": [
    {
     "data": {
      "text/plain": [
       "ID                              10324\n",
       "Project Code                      142\n",
       "PQ #                             1237\n",
       "PO / SO #                        6233\n",
       "ASN/DN #                         7030\n",
       "Country                            43\n",
       "Managed By                          4\n",
       "Fulfill Via                         2\n",
       "Vendor INCO Term                    8\n",
       "Shipment Mode                       4\n",
       "PQ First Sent to Client Date      765\n",
       "PO Sent to Vendor Date            897\n",
       "Scheduled Delivery Date          2006\n",
       "Delivered to Client Date         2093\n",
       "Delivery Recorded Date           2042\n",
       "Product Group                       5\n",
       "Sub Classification                  6\n",
       "Vendor                             73\n",
       "Item Description                  184\n",
       "Molecule/Test Type                 86\n",
       "Brand                              48\n",
       "Dosage                             54\n",
       "Dosage Form                        17\n",
       "Unit of Measure (Per Pack)         31\n",
       "Line Item Quantity               5065\n",
       "Line Item Value                  8741\n",
       "Pack Price                       1175\n",
       "Unit Price                        183\n",
       "Manufacturing Site                 88\n",
       "First Line Designation              2\n",
       "Weight (Kilograms)               4688\n",
       "Freight Cost (USD)               6733\n",
       "Line Item Insurance (USD)        6722\n",
       "dtype: int64"
      ]
     },
     "execution_count": 46,
     "metadata": {},
     "output_type": "execute_result"
    }
   ],
   "source": [
    "#total number of unique value in each column\n",
    "df.nunique()"
   ]
  },
  {
   "cell_type": "code",
   "execution_count": 47,
   "id": "c77de963",
   "metadata": {},
   "outputs": [
    {
     "data": {
      "text/plain": [
       "ID                                 0\n",
       "Project Code                       0\n",
       "PQ #                               0\n",
       "PO / SO #                          0\n",
       "ASN/DN #                           0\n",
       "Country                            0\n",
       "Managed By                         0\n",
       "Fulfill Via                        0\n",
       "Vendor INCO Term                   0\n",
       "Shipment Mode                    360\n",
       "PQ First Sent to Client Date       0\n",
       "PO Sent to Vendor Date             0\n",
       "Scheduled Delivery Date            0\n",
       "Delivered to Client Date           0\n",
       "Delivery Recorded Date             0\n",
       "Product Group                      0\n",
       "Sub Classification                 0\n",
       "Vendor                             0\n",
       "Item Description                   0\n",
       "Molecule/Test Type                 0\n",
       "Brand                              0\n",
       "Dosage                          1736\n",
       "Dosage Form                        0\n",
       "Unit of Measure (Per Pack)         0\n",
       "Line Item Quantity                 0\n",
       "Line Item Value                    0\n",
       "Pack Price                         0\n",
       "Unit Price                         0\n",
       "Manufacturing Site                 0\n",
       "First Line Designation             0\n",
       "Weight (Kilograms)                 0\n",
       "Freight Cost (USD)                 0\n",
       "Line Item Insurance (USD)        287\n",
       "dtype: int64"
      ]
     },
     "execution_count": 47,
     "metadata": {},
     "output_type": "execute_result"
    }
   ],
   "source": [
    "#checking for null values\n",
    "df.isnull().sum()"
   ]
  },
  {
   "cell_type": "code",
   "execution_count": 48,
   "id": "589038ea",
   "metadata": {},
   "outputs": [
    {
     "data": {
      "text/plain": [
       "ID                                             0.00\n",
       "Project Code                                   0.00\n",
       "PQ #                                           0.00\n",
       "PO / SO #                                      0.00\n",
       "ASN/DN #                                       0.00\n",
       "Country                                        0.00\n",
       "Managed By                                     0.00\n",
       "Fulfill Via                                    0.00\n",
       "Vendor INCO Term                               0.00\n",
       "Shipment Mode                                  0.35\n",
       "PQ First Sent to Client Date                   0.00\n",
       "PO Sent to Vendor Date                         0.00\n",
       "Scheduled Delivery Date                        0.00\n",
       "Delivered to Client Date                       0.00\n",
       "Delivery Recorded Date                         0.00\n",
       "Product Group                                  0.00\n",
       "Sub Classification                             0.00\n",
       "Vendor                                         0.00\n",
       "Item Description                               0.00\n",
       "Molecule/Test Type                             0.00\n",
       "Brand                                          0.00\n",
       "Dosage                                         1.68\n",
       "Dosage Form                                    0.00\n",
       "Unit of Measure (Per Pack)                     0.00\n",
       "Line Item Quantity                             0.00\n",
       "Line Item Value                                0.00\n",
       "Pack Price                                     0.00\n",
       "Unit Price                                     0.00\n",
       "Manufacturing Site                             0.00\n",
       "First Line Designation                         0.00\n",
       "Weight (Kilograms)                             0.00\n",
       "Freight Cost (USD)                             0.00\n",
       "Line Item Insurance (USD)                      0.28\n",
       "dtype: float64"
      ]
     },
     "execution_count": 48,
     "metadata": {},
     "output_type": "execute_result"
    }
   ],
   "source": [
    "#null value in percentages\n",
    "df.isnull().mean()*10"
   ]
  },
  {
   "cell_type": "code",
   "execution_count": 49,
   "id": "ffda4301",
   "metadata": {},
   "outputs": [
    {
     "data": {
      "text/plain": [
       "<AxesSubplot:>"
      ]
     },
     "execution_count": 49,
     "metadata": {},
     "output_type": "execute_result"
    },
    {
     "data": {
      "image/png": "[encoded data removed]",
      "text/plain": [
       "<Figure size 504x504 with 2 Axes>"
      ]
     },
     "metadata": {
      "needs_background": "light"
     },
     "output_type": "display_data"
    }
   ],
   "source": [
    "#heatmap for all blue values\n",
    "plt.figure(figsize=(7,7))\n",
    "sns.heatmap(df.isnull(),cmap='Blues')"
   ]
  },
  {
   "cell_type": "code",
   "execution_count": 50,
   "id": "0a7b4360",
   "metadata": {},
   "outputs": [
    {
     "data": {
      "text/plain": [
       "0"
      ]
     },
     "execution_count": 50,
     "metadata": {},
     "output_type": "execute_result"
    }
   ],
   "source": [
    "#checking duplicated values\n",
    "df.duplicated().sum()"
   ]
  },
  {
   "cell_type": "code",
   "execution_count": 51,
   "id": "8153239d",
   "metadata": {},
   "outputs": [
    {
     "data": {
      "text/html": [
       "<div>\n",
       "<style scoped>\n",
       "    .dataframe tbody tr th:only-of-type {\n",
       "        vertical-align: middle;\n",
       "    }\n",
       "\n",
       "    .dataframe tbody tr th {\n",
       "        vertical-align: top;\n",
       "    }\n",
       "\n",
       "    .dataframe thead th {\n",
       "        text-align: right;\n",
       "    }\n",
       "</style>\n",
       "<table border=\"1\" class=\"dataframe\">\n",
       "  <thead>\n",
       "    <tr style=\"text-align: right;\">\n",
       "      <th></th>\n",
       "      <th>ID</th>\n",
       "      <th>Unit of Measure (Per Pack)</th>\n",
       "      <th>Line Item Quantity</th>\n",
       "      <th>Line Item Value</th>\n",
       "      <th>Pack Price</th>\n",
       "      <th>Unit Price</th>\n",
       "      <th>Line Item Insurance (USD)</th>\n",
       "    </tr>\n",
       "  </thead>\n",
       "  <tbody>\n",
       "    <tr>\n",
       "      <th>count</th>\n",
       "      <td>10,324.00</td>\n",
       "      <td>10,324.00</td>\n",
       "      <td>10,324.00</td>\n",
       "      <td>10,324.00</td>\n",
       "      <td>10,324.00</td>\n",
       "      <td>10,324.00</td>\n",
       "      <td>10,037.00</td>\n",
       "    </tr>\n",
       "    <tr>\n",
       "      <th>mean</th>\n",
       "      <td>51,098.97</td>\n",
       "      <td>77.99</td>\n",
       "      <td>18,332.53</td>\n",
       "      <td>157,650.57</td>\n",
       "      <td>21.91</td>\n",
       "      <td>0.61</td>\n",
       "      <td>240.12</td>\n",
       "    </tr>\n",
       "    <tr>\n",
       "      <th>std</th>\n",
       "      <td>31,944.33</td>\n",
       "      <td>76.58</td>\n",
       "      <td>40,035.30</td>\n",
       "      <td>345,292.07</td>\n",
       "      <td>45.61</td>\n",
       "      <td>3.28</td>\n",
       "      <td>500.19</td>\n",
       "    </tr>\n",
       "    <tr>\n",
       "      <th>min</th>\n",
       "      <td>1.00</td>\n",
       "      <td>1.00</td>\n",
       "      <td>1.00</td>\n",
       "      <td>0.00</td>\n",
       "      <td>0.00</td>\n",
       "      <td>0.00</td>\n",
       "      <td>0.00</td>\n",
       "    </tr>\n",
       "    <tr>\n",
       "      <th>25%</th>\n",
       "      <td>12,795.75</td>\n",
       "      <td>30.00</td>\n",
       "      <td>408.00</td>\n",
       "      <td>4,314.59</td>\n",
       "      <td>4.12</td>\n",
       "      <td>0.08</td>\n",
       "      <td>6.51</td>\n",
       "    </tr>\n",
       "    <tr>\n",
       "      <th>50%</th>\n",
       "      <td>57,540.50</td>\n",
       "      <td>60.00</td>\n",
       "      <td>3,000.00</td>\n",
       "      <td>30,471.47</td>\n",
       "      <td>9.30</td>\n",
       "      <td>0.16</td>\n",
       "      <td>47.04</td>\n",
       "    </tr>\n",
       "    <tr>\n",
       "      <th>75%</th>\n",
       "      <td>83,648.25</td>\n",
       "      <td>90.00</td>\n",
       "      <td>17,039.75</td>\n",
       "      <td>166,447.14</td>\n",
       "      <td>23.59</td>\n",
       "      <td>0.47</td>\n",
       "      <td>252.40</td>\n",
       "    </tr>\n",
       "    <tr>\n",
       "      <th>max</th>\n",
       "      <td>86,823.00</td>\n",
       "      <td>1,000.00</td>\n",
       "      <td>619,999.00</td>\n",
       "      <td>5,951,990.40</td>\n",
       "      <td>1,345.64</td>\n",
       "      <td>238.65</td>\n",
       "      <td>7,708.44</td>\n",
       "    </tr>\n",
       "  </tbody>\n",
       "</table>\n",
       "</div>"
      ],
      "text/plain": [
       "                        ID  Unit of Measure (Per Pack)   Line Item Quantity  \\\n",
       "count            10,324.00                   10,324.00            10,324.00   \n",
       "mean             51,098.97                       77.99            18,332.53   \n",
       "std              31,944.33                       76.58            40,035.30   \n",
       "min                   1.00                        1.00                 1.00   \n",
       "25%              12,795.75                       30.00               408.00   \n",
       "50%              57,540.50                       60.00             3,000.00   \n",
       "75%              83,648.25                       90.00            17,039.75   \n",
       "max              86,823.00                    1,000.00           619,999.00   \n",
       "\n",
       "           Line Item Value           Pack Price           Unit Price  \\\n",
       "count            10,324.00            10,324.00            10,324.00   \n",
       "mean            157,650.57                21.91                 0.61   \n",
       "std             345,292.07                45.61                 3.28   \n",
       "min                   0.00                 0.00                 0.00   \n",
       "25%               4,314.59                 4.12                 0.08   \n",
       "50%              30,471.47                 9.30                 0.16   \n",
       "75%             166,447.14                23.59                 0.47   \n",
       "max           5,951,990.40             1,345.64               238.65   \n",
       "\n",
       "       Line Item Insurance (USD)  \n",
       "count                  10,037.00  \n",
       "mean                      240.12  \n",
       "std                       500.19  \n",
       "min                         0.00  \n",
       "25%                         6.51  \n",
       "50%                        47.04  \n",
       "75%                       252.40  \n",
       "max                     7,708.44  "
      ]
     },
     "execution_count": 51,
     "metadata": {},
     "output_type": "execute_result"
    }
   ],
   "source": [
    "#statistic analysis\n",
    "df.describe()\n"
   ]
  },
  {
   "cell_type": "code",
   "execution_count": 52,
   "id": "2d6acdf5",
   "metadata": {},
   "outputs": [
    {
     "data": {
      "text/html": [
       "<div>\n",
       "<style scoped>\n",
       "    .dataframe tbody tr th:only-of-type {\n",
       "        vertical-align: middle;\n",
       "    }\n",
       "\n",
       "    .dataframe tbody tr th {\n",
       "        vertical-align: top;\n",
       "    }\n",
       "\n",
       "    .dataframe thead th {\n",
       "        text-align: right;\n",
       "    }\n",
       "</style>\n",
       "<table border=\"1\" class=\"dataframe\">\n",
       "  <thead>\n",
       "    <tr style=\"text-align: right;\">\n",
       "      <th></th>\n",
       "      <th>Project Code</th>\n",
       "      <th>PQ #</th>\n",
       "      <th>PO / SO #</th>\n",
       "      <th>ASN/DN #</th>\n",
       "      <th>Country</th>\n",
       "      <th>Managed By</th>\n",
       "      <th>Fulfill Via</th>\n",
       "      <th>Vendor INCO Term</th>\n",
       "      <th>Shipment Mode</th>\n",
       "      <th>PQ First Sent to Client Date</th>\n",
       "      <th>PO Sent to Vendor Date</th>\n",
       "      <th>Scheduled Delivery Date</th>\n",
       "      <th>Delivered to Client Date</th>\n",
       "      <th>Delivery Recorded Date</th>\n",
       "      <th>Product Group</th>\n",
       "      <th>Sub Classification</th>\n",
       "      <th>Vendor</th>\n",
       "      <th>Item Description</th>\n",
       "      <th>Molecule/Test Type</th>\n",
       "      <th>Brand</th>\n",
       "      <th>Dosage</th>\n",
       "      <th>Dosage Form</th>\n",
       "      <th>Manufacturing Site</th>\n",
       "      <th>First Line Designation</th>\n",
       "      <th>Weight (Kilograms)</th>\n",
       "      <th>Freight Cost (USD)</th>\n",
       "    </tr>\n",
       "  </thead>\n",
       "  <tbody>\n",
       "    <tr>\n",
       "      <th>count</th>\n",
       "      <td>10324</td>\n",
       "      <td>10324</td>\n",
       "      <td>10324</td>\n",
       "      <td>10324</td>\n",
       "      <td>10324</td>\n",
       "      <td>10324</td>\n",
       "      <td>10324</td>\n",
       "      <td>10324</td>\n",
       "      <td>9964</td>\n",
       "      <td>10324</td>\n",
       "      <td>10324</td>\n",
       "      <td>10324</td>\n",
       "      <td>10324</td>\n",
       "      <td>10324</td>\n",
       "      <td>10324</td>\n",
       "      <td>10324</td>\n",
       "      <td>10324</td>\n",
       "      <td>10324</td>\n",
       "      <td>10324</td>\n",
       "      <td>10324</td>\n",
       "      <td>8588</td>\n",
       "      <td>10324</td>\n",
       "      <td>10324</td>\n",
       "      <td>10324</td>\n",
       "      <td>10324</td>\n",
       "      <td>10324</td>\n",
       "    </tr>\n",
       "    <tr>\n",
       "      <th>unique</th>\n",
       "      <td>142</td>\n",
       "      <td>1237</td>\n",
       "      <td>6233</td>\n",
       "      <td>7030</td>\n",
       "      <td>43</td>\n",
       "      <td>4</td>\n",
       "      <td>2</td>\n",
       "      <td>8</td>\n",
       "      <td>4</td>\n",
       "      <td>765</td>\n",
       "      <td>897</td>\n",
       "      <td>2006</td>\n",
       "      <td>2093</td>\n",
       "      <td>2042</td>\n",
       "      <td>5</td>\n",
       "      <td>6</td>\n",
       "      <td>73</td>\n",
       "      <td>184</td>\n",
       "      <td>86</td>\n",
       "      <td>48</td>\n",
       "      <td>54</td>\n",
       "      <td>17</td>\n",
       "      <td>88</td>\n",
       "      <td>2</td>\n",
       "      <td>4688</td>\n",
       "      <td>6733</td>\n",
       "    </tr>\n",
       "    <tr>\n",
       "      <th>top</th>\n",
       "      <td>116-ZA-T30</td>\n",
       "      <td>Pre-PQ Process</td>\n",
       "      <td>SCMS-199289</td>\n",
       "      <td>ASN-19166</td>\n",
       "      <td>South Africa</td>\n",
       "      <td>PMO - US</td>\n",
       "      <td>From RDC</td>\n",
       "      <td>N/A - From RDC</td>\n",
       "      <td>Air</td>\n",
       "      <td>Pre-PQ Process</td>\n",
       "      <td>N/A - From RDC</td>\n",
       "      <td>29-Aug-14</td>\n",
       "      <td>29-Aug-14</td>\n",
       "      <td>29-Aug-14</td>\n",
       "      <td>ARV</td>\n",
       "      <td>Adult</td>\n",
       "      <td>SCMS from RDC</td>\n",
       "      <td>Efavirenz 600mg, tablets, 30 Tabs</td>\n",
       "      <td>Efavirenz</td>\n",
       "      <td>Generic</td>\n",
       "      <td>300mg</td>\n",
       "      <td>Tablet</td>\n",
       "      <td>Aurobindo Unit III, India</td>\n",
       "      <td>Yes</td>\n",
       "      <td>Weight Captured Separately</td>\n",
       "      <td>Freight Included in Commodity Cost</td>\n",
       "    </tr>\n",
       "    <tr>\n",
       "      <th>freq</th>\n",
       "      <td>768</td>\n",
       "      <td>2681</td>\n",
       "      <td>67</td>\n",
       "      <td>54</td>\n",
       "      <td>1406</td>\n",
       "      <td>10265</td>\n",
       "      <td>5404</td>\n",
       "      <td>5404</td>\n",
       "      <td>6113</td>\n",
       "      <td>2476</td>\n",
       "      <td>5404</td>\n",
       "      <td>97</td>\n",
       "      <td>74</td>\n",
       "      <td>67</td>\n",
       "      <td>8550</td>\n",
       "      <td>6595</td>\n",
       "      <td>5404</td>\n",
       "      <td>755</td>\n",
       "      <td>1125</td>\n",
       "      <td>7285</td>\n",
       "      <td>990</td>\n",
       "      <td>3532</td>\n",
       "      <td>3172</td>\n",
       "      <td>7030</td>\n",
       "      <td>1507</td>\n",
       "      <td>1442</td>\n",
       "    </tr>\n",
       "  </tbody>\n",
       "</table>\n",
       "</div>"
      ],
      "text/plain": [
       "       Project Code            PQ #    PO / SO #   ASN/DN #       Country  \\\n",
       "count         10324           10324        10324      10324         10324   \n",
       "unique          142            1237         6233       7030            43   \n",
       "top      116-ZA-T30  Pre-PQ Process  SCMS-199289  ASN-19166  South Africa   \n",
       "freq            768            2681           67         54          1406   \n",
       "\n",
       "       Managed By Fulfill Via Vendor INCO Term Shipment Mode  \\\n",
       "count       10324       10324            10324          9964   \n",
       "unique          4           2                8             4   \n",
       "top      PMO - US    From RDC   N/A - From RDC           Air   \n",
       "freq        10265        5404             5404          6113   \n",
       "\n",
       "       PQ First Sent to Client Date PO Sent to Vendor Date  \\\n",
       "count                         10324                  10324   \n",
       "unique                          765                    897   \n",
       "top                  Pre-PQ Process         N/A - From RDC   \n",
       "freq                           2476                   5404   \n",
       "\n",
       "       Scheduled Delivery Date Delivered to Client Date  \\\n",
       "count                    10324                    10324   \n",
       "unique                    2006                     2093   \n",
       "top                  29-Aug-14                29-Aug-14   \n",
       "freq                        97                       74   \n",
       "\n",
       "       Delivery Recorded Date Product Group Sub Classification         Vendor  \\\n",
       "count                   10324         10324              10324          10324   \n",
       "unique                   2042             5                  6             73   \n",
       "top                 29-Aug-14           ARV              Adult  SCMS from RDC   \n",
       "freq                       67          8550               6595           5404   \n",
       "\n",
       "                         Item Description Molecule/Test Type    Brand Dosage  \\\n",
       "count                               10324              10324    10324   8588   \n",
       "unique                                184                 86       48     54   \n",
       "top     Efavirenz 600mg, tablets, 30 Tabs          Efavirenz  Generic  300mg   \n",
       "freq                                  755               1125     7285    990   \n",
       "\n",
       "       Dosage Form         Manufacturing Site First Line Designation  \\\n",
       "count        10324                      10324                  10324   \n",
       "unique          17                         88                      2   \n",
       "top         Tablet  Aurobindo Unit III, India                    Yes   \n",
       "freq          3532                       3172                   7030   \n",
       "\n",
       "                Weight (Kilograms)                  Freight Cost (USD)  \n",
       "count                        10324                               10324  \n",
       "unique                        4688                                6733  \n",
       "top     Weight Captured Separately  Freight Included in Commodity Cost  \n",
       "freq                          1507                                1442  "
      ]
     },
     "execution_count": 52,
     "metadata": {},
     "output_type": "execute_result"
    }
   ],
   "source": [
    "df.describe(include=object)"
   ]
  },
  {
   "cell_type": "code",
   "execution_count": 53,
   "id": "8bd93b43",
   "metadata": {},
   "outputs": [
    {
     "data": {
      "text/plain": [
       "ID                                int64\n",
       "Project Code                     object\n",
       "PQ #                             object\n",
       "PO / SO #                        object\n",
       "ASN/DN #                         object\n",
       "Country                          object\n",
       "Managed By                       object\n",
       "Fulfill Via                      object\n",
       "Vendor INCO Term                 object\n",
       "Shipment Mode                    object\n",
       "PQ First Sent to Client Date     object\n",
       "PO Sent to Vendor Date           object\n",
       "Scheduled Delivery Date          object\n",
       "Delivered to Client Date         object\n",
       "Delivery Recorded Date           object\n",
       "Product Group                    object\n",
       "Sub Classification               object\n",
       "Vendor                           object\n",
       "Item Description                 object\n",
       "Molecule/Test Type               object\n",
       "Brand                            object\n",
       "Dosage                           object\n",
       "Dosage Form                      object\n",
       "Unit of Measure (Per Pack)        int64\n",
       "Line Item Quantity                int64\n",
       "Line Item Value                 float64\n",
       "Pack Price                      float64\n",
       "Unit Price                      float64\n",
       "Manufacturing Site               object\n",
       "First Line Designation           object\n",
       "Weight (Kilograms)               object\n",
       "Freight Cost (USD)               object\n",
       "Line Item Insurance (USD)       float64\n",
       "dtype: object"
      ]
     },
     "execution_count": 53,
     "metadata": {},
     "output_type": "execute_result"
    }
   ],
   "source": [
    "df.dtypes"
   ]
  },
  {
   "cell_type": "markdown",
   "id": "dc9537c8",
   "metadata": {},
   "source": [
    "# EDA"
   ]
  },
  {
   "cell_type": "code",
   "execution_count": 54,
   "id": "fc09940a",
   "metadata": {},
   "outputs": [],
   "source": [
    "#Dictionaries with ID as keys and weight/freight as values\n",
    "id_weight=dict(zip(df['ID'], df['Weight (Kilograms)']))\n",
    "id_weight=dict(zip(df['ID'], df['Freight Cost (USD)']))"
   ]
  },
  {
   "cell_type": "code",
   "execution_count": 55,
   "id": "52844095",
   "metadata": {},
   "outputs": [],
   "source": [
    "#Functions to get weight and freight from correseponding column numbers\n",
    "def get_weight(df):\n",
    "    df=pd.to_numeric(df,errors='ignore')\n",
    "    if type(df)==str:\n",
    "        try:\n",
    "            d=df.split(\":\")\n",
    "            e=d[1][:-1]\n",
    "            return id_weight.get(int(e))\n",
    "        except:\n",
    "            return (data)\n",
    "        \n",
    "def get_freight(df):\n",
    "    df=pd.to_numeric(df,errors='ignore')\n",
    "    if type(df)==str:\n",
    "        try:\n",
    "            d=data.split(':')\n",
    "            e=d[1][:-1]\n",
    "            return id_freight.get(int(e))\n",
    "        except:\n",
    "            return (df)\n",
    "        else:\n",
    "            return (df)"
   ]
  },
  {
   "cell_type": "code",
   "execution_count": 56,
   "id": "7e153536",
   "metadata": {},
   "outputs": [],
   "source": [
    "#Converting dates into datetime format , for PQ First sent to Cli"
   ]
  },
  {
   "cell_type": "code",
   "execution_count": 57,
   "id": "fa59a20a",
   "metadata": {},
   "outputs": [
    {
     "data": {
      "text/html": [
       "<div>\n",
       "<style scoped>\n",
       "    .dataframe tbody tr th:only-of-type {\n",
       "        vertical-align: middle;\n",
       "    }\n",
       "\n",
       "    .dataframe tbody tr th {\n",
       "        vertical-align: top;\n",
       "    }\n",
       "\n",
       "    .dataframe thead th {\n",
       "        text-align: right;\n",
       "    }\n",
       "</style>\n",
       "<table border=\"1\" class=\"dataframe\">\n",
       "  <thead>\n",
       "    <tr style=\"text-align: right;\">\n",
       "      <th></th>\n",
       "      <th>ID</th>\n",
       "      <th>Project Code</th>\n",
       "      <th>PQ #</th>\n",
       "      <th>PO / SO #</th>\n",
       "      <th>ASN/DN #</th>\n",
       "      <th>Country</th>\n",
       "      <th>Managed By</th>\n",
       "      <th>Fulfill Via</th>\n",
       "      <th>Vendor INCO Term</th>\n",
       "      <th>Shipment Mode</th>\n",
       "      <th>PQ First Sent to Client Date</th>\n",
       "      <th>PO Sent to Vendor Date</th>\n",
       "      <th>Scheduled Delivery Date</th>\n",
       "      <th>Delivered to Client Date</th>\n",
       "      <th>Delivery Recorded Date</th>\n",
       "      <th>Product Group</th>\n",
       "      <th>Sub Classification</th>\n",
       "      <th>Vendor</th>\n",
       "      <th>Item Description</th>\n",
       "      <th>Molecule/Test Type</th>\n",
       "      <th>Brand</th>\n",
       "      <th>Dosage</th>\n",
       "      <th>Dosage Form</th>\n",
       "      <th>Unit of Measure (Per Pack)</th>\n",
       "      <th>Line Item Quantity</th>\n",
       "      <th>Line Item Value</th>\n",
       "      <th>Pack Price</th>\n",
       "      <th>Unit Price</th>\n",
       "      <th>Manufacturing Site</th>\n",
       "      <th>First Line Designation</th>\n",
       "      <th>Weight (Kilograms)</th>\n",
       "      <th>Freight Cost (USD)</th>\n",
       "      <th>Line Item Insurance (USD)</th>\n",
       "    </tr>\n",
       "  </thead>\n",
       "  <tbody>\n",
       "    <tr>\n",
       "      <th>0</th>\n",
       "      <td>1</td>\n",
       "      <td>100-CI-T01</td>\n",
       "      <td>Pre-PQ Process</td>\n",
       "      <td>SCMS-4</td>\n",
       "      <td>ASN-8</td>\n",
       "      <td>Côte d'Ivoire</td>\n",
       "      <td>PMO - US</td>\n",
       "      <td>Direct Drop</td>\n",
       "      <td>EXW</td>\n",
       "      <td>Air</td>\n",
       "      <td>Pre-PQ Process</td>\n",
       "      <td>Date Not Captured</td>\n",
       "      <td>2-Jun-06</td>\n",
       "      <td>2-Jun-06</td>\n",
       "      <td>2-Jun-06</td>\n",
       "      <td>HRDT</td>\n",
       "      <td>HIV test</td>\n",
       "      <td>RANBAXY Fine Chemicals LTD.</td>\n",
       "      <td>HIV, Reveal G3 Rapid HIV-1 Antibody Test, 30 T...</td>\n",
       "      <td>HIV, Reveal G3 Rapid HIV-1 Antibody Test</td>\n",
       "      <td>Reveal</td>\n",
       "      <td>NaN</td>\n",
       "      <td>Test kit</td>\n",
       "      <td>30</td>\n",
       "      <td>19</td>\n",
       "      <td>551.00</td>\n",
       "      <td>29.00</td>\n",
       "      <td>0.97</td>\n",
       "      <td>Ranbaxy Fine Chemicals LTD</td>\n",
       "      <td>Yes</td>\n",
       "      <td>13</td>\n",
       "      <td>780.34</td>\n",
       "      <td>NaN</td>\n",
       "    </tr>\n",
       "    <tr>\n",
       "      <th>1</th>\n",
       "      <td>3</td>\n",
       "      <td>108-VN-T01</td>\n",
       "      <td>Pre-PQ Process</td>\n",
       "      <td>SCMS-13</td>\n",
       "      <td>ASN-85</td>\n",
       "      <td>Vietnam</td>\n",
       "      <td>PMO - US</td>\n",
       "      <td>Direct Drop</td>\n",
       "      <td>EXW</td>\n",
       "      <td>Air</td>\n",
       "      <td>Pre-PQ Process</td>\n",
       "      <td>Date Not Captured</td>\n",
       "      <td>14-Nov-06</td>\n",
       "      <td>14-Nov-06</td>\n",
       "      <td>14-Nov-06</td>\n",
       "      <td>ARV</td>\n",
       "      <td>Pediatric</td>\n",
       "      <td>Aurobindo Pharma Limited</td>\n",
       "      <td>Nevirapine 10mg/ml, oral suspension, Bottle, 2...</td>\n",
       "      <td>Nevirapine</td>\n",
       "      <td>Generic</td>\n",
       "      <td>10mg/ml</td>\n",
       "      <td>Oral suspension</td>\n",
       "      <td>240</td>\n",
       "      <td>1000</td>\n",
       "      <td>6,200.00</td>\n",
       "      <td>6.20</td>\n",
       "      <td>0.03</td>\n",
       "      <td>Aurobindo Unit III, India</td>\n",
       "      <td>Yes</td>\n",
       "      <td>358</td>\n",
       "      <td>4521.5</td>\n",
       "      <td>NaN</td>\n",
       "    </tr>\n",
       "    <tr>\n",
       "      <th>2</th>\n",
       "      <td>4</td>\n",
       "      <td>100-CI-T01</td>\n",
       "      <td>Pre-PQ Process</td>\n",
       "      <td>SCMS-20</td>\n",
       "      <td>ASN-14</td>\n",
       "      <td>Côte d'Ivoire</td>\n",
       "      <td>PMO - US</td>\n",
       "      <td>Direct Drop</td>\n",
       "      <td>FCA</td>\n",
       "      <td>Air</td>\n",
       "      <td>Pre-PQ Process</td>\n",
       "      <td>Date Not Captured</td>\n",
       "      <td>27-Aug-06</td>\n",
       "      <td>27-Aug-06</td>\n",
       "      <td>27-Aug-06</td>\n",
       "      <td>HRDT</td>\n",
       "      <td>HIV test</td>\n",
       "      <td>Abbott GmbH &amp; Co. KG</td>\n",
       "      <td>HIV 1/2, Determine Complete HIV Kit, 100 Tests</td>\n",
       "      <td>HIV 1/2, Determine Complete HIV Kit</td>\n",
       "      <td>Determine</td>\n",
       "      <td>NaN</td>\n",
       "      <td>Test kit</td>\n",
       "      <td>100</td>\n",
       "      <td>500</td>\n",
       "      <td>40,000.00</td>\n",
       "      <td>80.00</td>\n",
       "      <td>0.80</td>\n",
       "      <td>ABBVIE GmbH &amp; Co.KG Wiesbaden</td>\n",
       "      <td>Yes</td>\n",
       "      <td>171</td>\n",
       "      <td>1653.78</td>\n",
       "      <td>NaN</td>\n",
       "    </tr>\n",
       "    <tr>\n",
       "      <th>3</th>\n",
       "      <td>15</td>\n",
       "      <td>108-VN-T01</td>\n",
       "      <td>Pre-PQ Process</td>\n",
       "      <td>SCMS-78</td>\n",
       "      <td>ASN-50</td>\n",
       "      <td>Vietnam</td>\n",
       "      <td>PMO - US</td>\n",
       "      <td>Direct Drop</td>\n",
       "      <td>EXW</td>\n",
       "      <td>Air</td>\n",
       "      <td>Pre-PQ Process</td>\n",
       "      <td>Date Not Captured</td>\n",
       "      <td>1-Sep-06</td>\n",
       "      <td>1-Sep-06</td>\n",
       "      <td>1-Sep-06</td>\n",
       "      <td>ARV</td>\n",
       "      <td>Adult</td>\n",
       "      <td>SUN PHARMACEUTICAL INDUSTRIES LTD (RANBAXY LAB...</td>\n",
       "      <td>Lamivudine 150mg, tablets, 60 Tabs</td>\n",
       "      <td>Lamivudine</td>\n",
       "      <td>Generic</td>\n",
       "      <td>150mg</td>\n",
       "      <td>Tablet</td>\n",
       "      <td>60</td>\n",
       "      <td>31920</td>\n",
       "      <td>127,360.80</td>\n",
       "      <td>3.99</td>\n",
       "      <td>0.07</td>\n",
       "      <td>Ranbaxy, Paonta Shahib, India</td>\n",
       "      <td>Yes</td>\n",
       "      <td>1855</td>\n",
       "      <td>16007.06</td>\n",
       "      <td>NaN</td>\n",
       "    </tr>\n",
       "    <tr>\n",
       "      <th>4</th>\n",
       "      <td>16</td>\n",
       "      <td>108-VN-T01</td>\n",
       "      <td>Pre-PQ Process</td>\n",
       "      <td>SCMS-81</td>\n",
       "      <td>ASN-55</td>\n",
       "      <td>Vietnam</td>\n",
       "      <td>PMO - US</td>\n",
       "      <td>Direct Drop</td>\n",
       "      <td>EXW</td>\n",
       "      <td>Air</td>\n",
       "      <td>Pre-PQ Process</td>\n",
       "      <td>Date Not Captured</td>\n",
       "      <td>11-Aug-06</td>\n",
       "      <td>11-Aug-06</td>\n",
       "      <td>11-Aug-06</td>\n",
       "      <td>ARV</td>\n",
       "      <td>Adult</td>\n",
       "      <td>Aurobindo Pharma Limited</td>\n",
       "      <td>Stavudine 30mg, capsules, 60 Caps</td>\n",
       "      <td>Stavudine</td>\n",
       "      <td>Generic</td>\n",
       "      <td>30mg</td>\n",
       "      <td>Capsule</td>\n",
       "      <td>60</td>\n",
       "      <td>38000</td>\n",
       "      <td>121,600.00</td>\n",
       "      <td>3.20</td>\n",
       "      <td>0.05</td>\n",
       "      <td>Aurobindo Unit III, India</td>\n",
       "      <td>Yes</td>\n",
       "      <td>7590</td>\n",
       "      <td>45450.08</td>\n",
       "      <td>NaN</td>\n",
       "    </tr>\n",
       "    <tr>\n",
       "      <th>...</th>\n",
       "      <td>...</td>\n",
       "      <td>...</td>\n",
       "      <td>...</td>\n",
       "      <td>...</td>\n",
       "      <td>...</td>\n",
       "      <td>...</td>\n",
       "      <td>...</td>\n",
       "      <td>...</td>\n",
       "      <td>...</td>\n",
       "      <td>...</td>\n",
       "      <td>...</td>\n",
       "      <td>...</td>\n",
       "      <td>...</td>\n",
       "      <td>...</td>\n",
       "      <td>...</td>\n",
       "      <td>...</td>\n",
       "      <td>...</td>\n",
       "      <td>...</td>\n",
       "      <td>...</td>\n",
       "      <td>...</td>\n",
       "      <td>...</td>\n",
       "      <td>...</td>\n",
       "      <td>...</td>\n",
       "      <td>...</td>\n",
       "      <td>...</td>\n",
       "      <td>...</td>\n",
       "      <td>...</td>\n",
       "      <td>...</td>\n",
       "      <td>...</td>\n",
       "      <td>...</td>\n",
       "      <td>...</td>\n",
       "      <td>...</td>\n",
       "      <td>...</td>\n",
       "    </tr>\n",
       "    <tr>\n",
       "      <th>10319</th>\n",
       "      <td>86818</td>\n",
       "      <td>103-ZW-T30</td>\n",
       "      <td>FPQ-15197</td>\n",
       "      <td>SO-50020</td>\n",
       "      <td>DN-4307</td>\n",
       "      <td>Zimbabwe</td>\n",
       "      <td>PMO - US</td>\n",
       "      <td>From RDC</td>\n",
       "      <td>N/A - From RDC</td>\n",
       "      <td>Truck</td>\n",
       "      <td>10/16/14</td>\n",
       "      <td>N/A - From RDC</td>\n",
       "      <td>31-Jul-15</td>\n",
       "      <td>15-Jul-15</td>\n",
       "      <td>20-Jul-15</td>\n",
       "      <td>ARV</td>\n",
       "      <td>Pediatric</td>\n",
       "      <td>SCMS from RDC</td>\n",
       "      <td>Lamivudine/Nevirapine/Zidovudine 30/50/60mg, d...</td>\n",
       "      <td>Lamivudine/Nevirapine/Zidovudine</td>\n",
       "      <td>Generic</td>\n",
       "      <td>30/50/60mg</td>\n",
       "      <td>Chewable/dispersible tablet - FDC</td>\n",
       "      <td>60</td>\n",
       "      <td>166571</td>\n",
       "      <td>599,655.60</td>\n",
       "      <td>3.60</td>\n",
       "      <td>0.06</td>\n",
       "      <td>Mylan,  H-12 &amp; H-13, India</td>\n",
       "      <td>No</td>\n",
       "      <td>See DN-4307 (ID#:83920)</td>\n",
       "      <td>See DN-4307 (ID#:83920)</td>\n",
       "      <td>705.79</td>\n",
       "    </tr>\n",
       "    <tr>\n",
       "      <th>10320</th>\n",
       "      <td>86819</td>\n",
       "      <td>104-CI-T30</td>\n",
       "      <td>FPQ-15259</td>\n",
       "      <td>SO-50102</td>\n",
       "      <td>DN-4313</td>\n",
       "      <td>Côte d'Ivoire</td>\n",
       "      <td>PMO - US</td>\n",
       "      <td>From RDC</td>\n",
       "      <td>N/A - From RDC</td>\n",
       "      <td>Truck</td>\n",
       "      <td>10/24/14</td>\n",
       "      <td>N/A - From RDC</td>\n",
       "      <td>31-Jul-15</td>\n",
       "      <td>6-Aug-15</td>\n",
       "      <td>7-Aug-15</td>\n",
       "      <td>ARV</td>\n",
       "      <td>Adult</td>\n",
       "      <td>SCMS from RDC</td>\n",
       "      <td>Lamivudine/Zidovudine 150/300mg, tablets, 60 Tabs</td>\n",
       "      <td>Lamivudine/Zidovudine</td>\n",
       "      <td>Generic</td>\n",
       "      <td>150/300mg</td>\n",
       "      <td>Tablet - FDC</td>\n",
       "      <td>60</td>\n",
       "      <td>21072</td>\n",
       "      <td>137,389.44</td>\n",
       "      <td>6.52</td>\n",
       "      <td>0.11</td>\n",
       "      <td>Hetero Unit III Hyderabad IN</td>\n",
       "      <td>No</td>\n",
       "      <td>See DN-4313 (ID#:83921)</td>\n",
       "      <td>See DN-4313 (ID#:83921)</td>\n",
       "      <td>161.71</td>\n",
       "    </tr>\n",
       "    <tr>\n",
       "      <th>10321</th>\n",
       "      <td>86821</td>\n",
       "      <td>110-ZM-T30</td>\n",
       "      <td>FPQ-14784</td>\n",
       "      <td>SO-49600</td>\n",
       "      <td>DN-4316</td>\n",
       "      <td>Zambia</td>\n",
       "      <td>PMO - US</td>\n",
       "      <td>From RDC</td>\n",
       "      <td>N/A - From RDC</td>\n",
       "      <td>Truck</td>\n",
       "      <td>8/12/14</td>\n",
       "      <td>N/A - From RDC</td>\n",
       "      <td>31-Aug-15</td>\n",
       "      <td>25-Aug-15</td>\n",
       "      <td>3-Sep-15</td>\n",
       "      <td>ARV</td>\n",
       "      <td>Adult</td>\n",
       "      <td>SCMS from RDC</td>\n",
       "      <td>Efavirenz/Lamivudine/Tenofovir Disoproxil Fuma...</td>\n",
       "      <td>Efavirenz/Lamivudine/Tenofovir Disoproxil Fuma...</td>\n",
       "      <td>Generic</td>\n",
       "      <td>600/300/300mg</td>\n",
       "      <td>Tablet - FDC</td>\n",
       "      <td>30</td>\n",
       "      <td>514526</td>\n",
       "      <td>5,140,114.74</td>\n",
       "      <td>9.99</td>\n",
       "      <td>0.33</td>\n",
       "      <td>Cipla Ltd A-42 MIDC Mahar. IN</td>\n",
       "      <td>No</td>\n",
       "      <td>Weight Captured Separately</td>\n",
       "      <td>Freight Included in Commodity Cost</td>\n",
       "      <td>5,284.04</td>\n",
       "    </tr>\n",
       "    <tr>\n",
       "      <th>10322</th>\n",
       "      <td>86822</td>\n",
       "      <td>200-ZW-T30</td>\n",
       "      <td>FPQ-16523</td>\n",
       "      <td>SO-51680</td>\n",
       "      <td>DN-4334</td>\n",
       "      <td>Zimbabwe</td>\n",
       "      <td>PMO - US</td>\n",
       "      <td>From RDC</td>\n",
       "      <td>N/A - From RDC</td>\n",
       "      <td>Truck</td>\n",
       "      <td>7/1/15</td>\n",
       "      <td>N/A - From RDC</td>\n",
       "      <td>9-Sep-15</td>\n",
       "      <td>4-Aug-15</td>\n",
       "      <td>11-Aug-15</td>\n",
       "      <td>ARV</td>\n",
       "      <td>Adult</td>\n",
       "      <td>SCMS from RDC</td>\n",
       "      <td>Lamivudine/Zidovudine 150/300mg, tablets, 60 Tabs</td>\n",
       "      <td>Lamivudine/Zidovudine</td>\n",
       "      <td>Generic</td>\n",
       "      <td>150/300mg</td>\n",
       "      <td>Tablet - FDC</td>\n",
       "      <td>60</td>\n",
       "      <td>17465</td>\n",
       "      <td>113,871.80</td>\n",
       "      <td>6.52</td>\n",
       "      <td>0.11</td>\n",
       "      <td>Mylan (formerly Matrix) Nashik</td>\n",
       "      <td>Yes</td>\n",
       "      <td>1392</td>\n",
       "      <td>Freight Included in Commodity Cost</td>\n",
       "      <td>134.03</td>\n",
       "    </tr>\n",
       "    <tr>\n",
       "      <th>10323</th>\n",
       "      <td>86823</td>\n",
       "      <td>103-ZW-T30</td>\n",
       "      <td>FPQ-15197</td>\n",
       "      <td>SO-50022</td>\n",
       "      <td>DN-4336</td>\n",
       "      <td>Zimbabwe</td>\n",
       "      <td>PMO - US</td>\n",
       "      <td>From RDC</td>\n",
       "      <td>N/A - From RDC</td>\n",
       "      <td>Truck</td>\n",
       "      <td>10/16/14</td>\n",
       "      <td>N/A - From RDC</td>\n",
       "      <td>31-Aug-15</td>\n",
       "      <td>4-Aug-15</td>\n",
       "      <td>11-Aug-15</td>\n",
       "      <td>ARV</td>\n",
       "      <td>Pediatric</td>\n",
       "      <td>SCMS from RDC</td>\n",
       "      <td>Lamivudine/Zidovudine 30/60mg, dispersible tab...</td>\n",
       "      <td>Lamivudine/Zidovudine</td>\n",
       "      <td>Generic</td>\n",
       "      <td>30/60mg</td>\n",
       "      <td>Chewable/dispersible tablet - FDC</td>\n",
       "      <td>60</td>\n",
       "      <td>36639</td>\n",
       "      <td>72,911.61</td>\n",
       "      <td>1.99</td>\n",
       "      <td>0.03</td>\n",
       "      <td>Cipla, Goa, India</td>\n",
       "      <td>No</td>\n",
       "      <td>Weight Captured Separately</td>\n",
       "      <td>Freight Included in Commodity Cost</td>\n",
       "      <td>85.82</td>\n",
       "    </tr>\n",
       "  </tbody>\n",
       "</table>\n",
       "<p>10324 rows × 33 columns</p>\n",
       "</div>"
      ],
      "text/plain": [
       "          ID Project Code            PQ # PO / SO # ASN/DN #        Country  \\\n",
       "0          1   100-CI-T01  Pre-PQ Process    SCMS-4    ASN-8  Côte d'Ivoire   \n",
       "1          3   108-VN-T01  Pre-PQ Process   SCMS-13   ASN-85        Vietnam   \n",
       "2          4   100-CI-T01  Pre-PQ Process   SCMS-20   ASN-14  Côte d'Ivoire   \n",
       "3         15   108-VN-T01  Pre-PQ Process   SCMS-78   ASN-50        Vietnam   \n",
       "4         16   108-VN-T01  Pre-PQ Process   SCMS-81   ASN-55        Vietnam   \n",
       "...      ...          ...             ...       ...      ...            ...   \n",
       "10319  86818   103-ZW-T30       FPQ-15197  SO-50020  DN-4307       Zimbabwe   \n",
       "10320  86819   104-CI-T30       FPQ-15259  SO-50102  DN-4313  Côte d'Ivoire   \n",
       "10321  86821   110-ZM-T30       FPQ-14784  SO-49600  DN-4316         Zambia   \n",
       "10322  86822   200-ZW-T30       FPQ-16523  SO-51680  DN-4334       Zimbabwe   \n",
       "10323  86823   103-ZW-T30       FPQ-15197  SO-50022  DN-4336       Zimbabwe   \n",
       "\n",
       "      Managed By  Fulfill Via Vendor INCO Term Shipment Mode  \\\n",
       "0       PMO - US  Direct Drop              EXW           Air   \n",
       "1       PMO - US  Direct Drop              EXW           Air   \n",
       "2       PMO - US  Direct Drop              FCA           Air   \n",
       "3       PMO - US  Direct Drop              EXW           Air   \n",
       "4       PMO - US  Direct Drop              EXW           Air   \n",
       "...          ...          ...              ...           ...   \n",
       "10319   PMO - US     From RDC   N/A - From RDC         Truck   \n",
       "10320   PMO - US     From RDC   N/A - From RDC         Truck   \n",
       "10321   PMO - US     From RDC   N/A - From RDC         Truck   \n",
       "10322   PMO - US     From RDC   N/A - From RDC         Truck   \n",
       "10323   PMO - US     From RDC   N/A - From RDC         Truck   \n",
       "\n",
       "      PQ First Sent to Client Date PO Sent to Vendor Date  \\\n",
       "0                   Pre-PQ Process      Date Not Captured   \n",
       "1                   Pre-PQ Process      Date Not Captured   \n",
       "2                   Pre-PQ Process      Date Not Captured   \n",
       "3                   Pre-PQ Process      Date Not Captured   \n",
       "4                   Pre-PQ Process      Date Not Captured   \n",
       "...                            ...                    ...   \n",
       "10319                     10/16/14         N/A - From RDC   \n",
       "10320                     10/24/14         N/A - From RDC   \n",
       "10321                      8/12/14         N/A - From RDC   \n",
       "10322                       7/1/15         N/A - From RDC   \n",
       "10323                     10/16/14         N/A - From RDC   \n",
       "\n",
       "      Scheduled Delivery Date Delivered to Client Date Delivery Recorded Date  \\\n",
       "0                    2-Jun-06                 2-Jun-06               2-Jun-06   \n",
       "1                   14-Nov-06                14-Nov-06              14-Nov-06   \n",
       "2                   27-Aug-06                27-Aug-06              27-Aug-06   \n",
       "3                    1-Sep-06                 1-Sep-06               1-Sep-06   \n",
       "4                   11-Aug-06                11-Aug-06              11-Aug-06   \n",
       "...                       ...                      ...                    ...   \n",
       "10319               31-Jul-15                15-Jul-15              20-Jul-15   \n",
       "10320               31-Jul-15                 6-Aug-15               7-Aug-15   \n",
       "10321               31-Aug-15                25-Aug-15               3-Sep-15   \n",
       "10322                9-Sep-15                 4-Aug-15              11-Aug-15   \n",
       "10323               31-Aug-15                 4-Aug-15              11-Aug-15   \n",
       "\n",
       "      Product Group Sub Classification  \\\n",
       "0              HRDT           HIV test   \n",
       "1               ARV          Pediatric   \n",
       "2              HRDT           HIV test   \n",
       "3               ARV              Adult   \n",
       "4               ARV              Adult   \n",
       "...             ...                ...   \n",
       "10319           ARV          Pediatric   \n",
       "10320           ARV              Adult   \n",
       "10321           ARV              Adult   \n",
       "10322           ARV              Adult   \n",
       "10323           ARV          Pediatric   \n",
       "\n",
       "                                                  Vendor  \\\n",
       "0                            RANBAXY Fine Chemicals LTD.   \n",
       "1                               Aurobindo Pharma Limited   \n",
       "2                                   Abbott GmbH & Co. KG   \n",
       "3      SUN PHARMACEUTICAL INDUSTRIES LTD (RANBAXY LAB...   \n",
       "4                               Aurobindo Pharma Limited   \n",
       "...                                                  ...   \n",
       "10319                                      SCMS from RDC   \n",
       "10320                                      SCMS from RDC   \n",
       "10321                                      SCMS from RDC   \n",
       "10322                                      SCMS from RDC   \n",
       "10323                                      SCMS from RDC   \n",
       "\n",
       "                                        Item Description  \\\n",
       "0      HIV, Reveal G3 Rapid HIV-1 Antibody Test, 30 T...   \n",
       "1      Nevirapine 10mg/ml, oral suspension, Bottle, 2...   \n",
       "2         HIV 1/2, Determine Complete HIV Kit, 100 Tests   \n",
       "3                     Lamivudine 150mg, tablets, 60 Tabs   \n",
       "4                      Stavudine 30mg, capsules, 60 Caps   \n",
       "...                                                  ...   \n",
       "10319  Lamivudine/Nevirapine/Zidovudine 30/50/60mg, d...   \n",
       "10320  Lamivudine/Zidovudine 150/300mg, tablets, 60 Tabs   \n",
       "10321  Efavirenz/Lamivudine/Tenofovir Disoproxil Fuma...   \n",
       "10322  Lamivudine/Zidovudine 150/300mg, tablets, 60 Tabs   \n",
       "10323  Lamivudine/Zidovudine 30/60mg, dispersible tab...   \n",
       "\n",
       "                                      Molecule/Test Type      Brand  \\\n",
       "0               HIV, Reveal G3 Rapid HIV-1 Antibody Test     Reveal   \n",
       "1                                             Nevirapine    Generic   \n",
       "2                    HIV 1/2, Determine Complete HIV Kit  Determine   \n",
       "3                                             Lamivudine    Generic   \n",
       "4                                              Stavudine    Generic   \n",
       "...                                                  ...        ...   \n",
       "10319                   Lamivudine/Nevirapine/Zidovudine    Generic   \n",
       "10320                              Lamivudine/Zidovudine    Generic   \n",
       "10321  Efavirenz/Lamivudine/Tenofovir Disoproxil Fuma...    Generic   \n",
       "10322                              Lamivudine/Zidovudine    Generic   \n",
       "10323                              Lamivudine/Zidovudine    Generic   \n",
       "\n",
       "              Dosage                        Dosage Form  \\\n",
       "0                NaN                           Test kit   \n",
       "1            10mg/ml                    Oral suspension   \n",
       "2                NaN                           Test kit   \n",
       "3              150mg                             Tablet   \n",
       "4               30mg                            Capsule   \n",
       "...              ...                                ...   \n",
       "10319     30/50/60mg  Chewable/dispersible tablet - FDC   \n",
       "10320      150/300mg                       Tablet - FDC   \n",
       "10321  600/300/300mg                       Tablet - FDC   \n",
       "10322      150/300mg                       Tablet - FDC   \n",
       "10323        30/60mg  Chewable/dispersible tablet - FDC   \n",
       "\n",
       "       Unit of Measure (Per Pack)  Line Item Quantity      Line Item Value  \\\n",
       "0                              30                  19               551.00   \n",
       "1                             240                1000             6,200.00   \n",
       "2                             100                 500            40,000.00   \n",
       "3                              60               31920           127,360.80   \n",
       "4                              60               38000           121,600.00   \n",
       "...                           ...                 ...                  ...   \n",
       "10319                          60              166571           599,655.60   \n",
       "10320                          60               21072           137,389.44   \n",
       "10321                          30              514526         5,140,114.74   \n",
       "10322                          60               17465           113,871.80   \n",
       "10323                          60               36639            72,911.61   \n",
       "\n",
       "                Pack Price           Unit Price  \\\n",
       "0                    29.00                 0.97   \n",
       "1                     6.20                 0.03   \n",
       "2                    80.00                 0.80   \n",
       "3                     3.99                 0.07   \n",
       "4                     3.20                 0.05   \n",
       "...                    ...                  ...   \n",
       "10319                 3.60                 0.06   \n",
       "10320                 6.52                 0.11   \n",
       "10321                 9.99                 0.33   \n",
       "10322                 6.52                 0.11   \n",
       "10323                 1.99                 0.03   \n",
       "\n",
       "                   Manufacturing Site First Line Designation  \\\n",
       "0          Ranbaxy Fine Chemicals LTD                    Yes   \n",
       "1           Aurobindo Unit III, India                    Yes   \n",
       "2       ABBVIE GmbH & Co.KG Wiesbaden                    Yes   \n",
       "3       Ranbaxy, Paonta Shahib, India                    Yes   \n",
       "4           Aurobindo Unit III, India                    Yes   \n",
       "...                               ...                    ...   \n",
       "10319      Mylan,  H-12 & H-13, India                     No   \n",
       "10320    Hetero Unit III Hyderabad IN                     No   \n",
       "10321   Cipla Ltd A-42 MIDC Mahar. IN                     No   \n",
       "10322  Mylan (formerly Matrix) Nashik                    Yes   \n",
       "10323               Cipla, Goa, India                     No   \n",
       "\n",
       "               Weight (Kilograms)                  Freight Cost (USD)  \\\n",
       "0                              13                              780.34   \n",
       "1                             358                              4521.5   \n",
       "2                             171                             1653.78   \n",
       "3                            1855                            16007.06   \n",
       "4                            7590                            45450.08   \n",
       "...                           ...                                 ...   \n",
       "10319     See DN-4307 (ID#:83920)             See DN-4307 (ID#:83920)   \n",
       "10320     See DN-4313 (ID#:83921)             See DN-4313 (ID#:83921)   \n",
       "10321  Weight Captured Separately  Freight Included in Commodity Cost   \n",
       "10322                        1392  Freight Included in Commodity Cost   \n",
       "10323  Weight Captured Separately  Freight Included in Commodity Cost   \n",
       "\n",
       "       Line Item Insurance (USD)  \n",
       "0                            NaN  \n",
       "1                            NaN  \n",
       "2                            NaN  \n",
       "3                            NaN  \n",
       "4                            NaN  \n",
       "...                          ...  \n",
       "10319                     705.79  \n",
       "10320                     161.71  \n",
       "10321                   5,284.04  \n",
       "10322                     134.03  \n",
       "10323                      85.82  \n",
       "\n",
       "[10324 rows x 33 columns]"
      ]
     },
     "execution_count": 57,
     "metadata": {},
     "output_type": "execute_result"
    }
   ],
   "source": [
    "df"
   ]
  },
  {
   "cell_type": "markdown",
   "id": "8bcd1525",
   "metadata": {},
   "source": [
    "# Total 10 Country wise count with graph "
   ]
  },
  {
   "cell_type": "code",
   "execution_count": 58,
   "id": "dd88a2af",
   "metadata": {},
   "outputs": [
    {
     "name": "stdout",
     "output_type": "stream",
     "text": [
      "Top 10 Countries Wise Count \n",
      "\n",
      "South Africa     1364\n",
      "Nigeria           952\n",
      "Côte d'Ivoire     827\n",
      "Uganda            724\n",
      "Vietnam           661\n",
      "Haiti             549\n",
      "Mozambique        506\n",
      "Zimbabwe          471\n",
      "Zambia            470\n",
      "Tanzania          374\n",
      "Name: Country, dtype: int64\n"
     ]
    },
    {
     "data": {
      "text/plain": [
       "Text(0.5, 0, 'Country Name')"
      ]
     },
     "execution_count": 58,
     "metadata": {},
     "output_type": "execute_result"
    },
    {
     "data": {
      "image/png": "[encoded data removed]",
      "text/plain": [
       "<Figure size 1584x432 with 1 Axes>"
      ]
     },
     "metadata": {
      "needs_background": "light"
     },
     "output_type": "display_data"
    }
   ],
   "source": [
    "df = df.dropna()\n",
    "ItemCount = df[\"Country\"].value_counts().nlargest(10)\n",
    "print(\"Top 10 Countries Wise Count \\n\")\n",
    "print(ItemCount)\n",
    "sns.set_context(\"talk\",font_scale=1)\n",
    "plt.figure(figsize=(22,6))\n",
    "sns.countplot(df['Country'],order = df['Country'].value_counts().nlargest(10).index)\n",
    "plt.title('Top 10 Countries Wise Count \\n')\n",
    "plt.ylabel('Total Count')\n",
    "plt.xlabel('Country Name')"
   ]
  },
  {
   "cell_type": "markdown",
   "id": "a23bcae5",
   "metadata": {},
   "source": [
    "# Total Pack Price for Top 15 Countries with graph"
   ]
  },
  {
   "cell_type": "code",
   "execution_count": 59,
   "id": "96d2cb29",
   "metadata": {},
   "outputs": [
    {
     "name": "stdout",
     "output_type": "stream",
     "text": [
      "Total Pack Price for Top 15 Countries\n",
      "\n",
      "Country\n",
      "South Africa                    23,479.74\n",
      "Vietnam                         11,015.11\n",
      "Nigeria                         10,293.74\n",
      "Côte d'Ivoire                   10,174.96\n",
      "Uganda                           9,781.99\n",
      "Mozambique                       5,782.10\n",
      "Haiti                            5,029.42\n",
      "Tanzania                         4,727.47\n",
      "Zambia                           3,780.12\n",
      "Rwanda                           3,721.67\n",
      "Zimbabwe                         3,359.62\n",
      "Guyana                           2,209.95\n",
      "Congo, DRC                       2,148.15\n",
      "Ethiopia                         1,202.37\n",
      "Dominican Republic               1,089.23\n",
      "Name: Pack Price, dtype: float64\n"
     ]
    },
    {
     "data": {
      "text/plain": [
       "Text(0.5, 0, 'Country Name')"
      ]
     },
     "execution_count": 59,
     "metadata": {},
     "output_type": "execute_result"
    },
    {
     "data": {
      "image/png": "[encoded data removed]",
      "text/plain": [
       "<Figure size 1584x432 with 1 Axes>"
      ]
     },
     "metadata": {
      "needs_background": "light"
     },
     "output_type": "display_data"
    }
   ],
   "source": [
    "TotalPrice = df.groupby(['Country'])['Pack Price'].sum().nlargest(15)\n",
    "print(\"Total Pack Price for Top 15 Countries\\n\")\n",
    "print(TotalPrice)\n",
    "plt.figure(figsize=(22,6))\n",
    "GraphData=df.groupby(['Country'])['Pack Price'].sum().nlargest(15)\n",
    "GraphData.plot(kind='bar')\n",
    "plt.ylabel('Total Pack Price')\n",
    "plt.xlabel('Country Name')"
   ]
  },
  {
   "cell_type": "markdown",
   "id": "3b04663b",
   "metadata": {},
   "source": [
    "# First Line Designation Wise Count "
   ]
  },
  {
   "cell_type": "code",
   "execution_count": 60,
   "id": "bd29b81a",
   "metadata": {},
   "outputs": [
    {
     "data": {
      "text/plain": [
       "Text(0.5, 0, 'First Line Designation')"
      ]
     },
     "execution_count": 60,
     "metadata": {},
     "output_type": "execute_result"
    },
    {
     "data": {
      "image/png": "[encoded data removed]",
      "text/plain": [
       "<Figure size 360x432 with 1 Axes>"
      ]
     },
     "metadata": {
      "needs_background": "light"
     },
     "output_type": "display_data"
    }
   ],
   "source": [
    "sns.set_context(\"talk\",font_scale=1)\n",
    "plt.figure(figsize=(5,6))\n",
    "sns.countplot(df['First Line Designation'],order =df['First Line Designation'].value_counts().nlargest(10).index)\n",
    "plt.title('First Line Designation Wise Count \\n')\n",
    "plt.ylabel('Total Count')\n",
    "plt.xlabel('First Line Designation')"
   ]
  },
  {
   "cell_type": "markdown",
   "id": "4301c979",
   "metadata": {},
   "source": [
    "# Shipment Mode percentage wise Pie Chart"
   ]
  },
  {
   "cell_type": "code",
   "execution_count": 61,
   "id": "c7713592",
   "metadata": {},
   "outputs": [
    {
     "data": {
      "application/vnd.plotly.v1+json": {
       "config": {
        "linkText": "Export to plot.ly",
        "plotlyServerURL": "https://plot.ly",
        "showLink": false
       },
       "data": [
        {
         "labels": [
          "Air",
          "Truck",
          "Air Charter",
          "Ocean"
         ],
         "type": "pie",
         "values": [
          53.45672959058593,
          34.07697965187546,
          7.967639127237068,
          4.498651630301544
         ]
        }
       ],
       "layout": {
        "template": {
         "data": {
          "bar": [
           {
            "error_x": {
             "color": "#2a3f5f"
            },
            "error_y": {
             "color": "#2a3f5f"
            },
            "marker": {
             "line": {
              "color": "#E5ECF6",
              "width": 0.5
             },
             "pattern": {
              "fillmode": "overlay",
              "size": 10,
              "solidity": 0.2
             }
            },
            "type": "bar"
           }
          ],
          "barpolar": [
           {
            "marker": {
             "line": {
              "color": "#E5ECF6",
              "width": 0.5
             },
             "pattern": {
              "fillmode": "overlay",
              "size": 10,
              "solidity": 0.2
             }
            },
            "type": "barpolar"
           }
          ],
          "carpet": [
           {
            "aaxis": {
             "endlinecolor": "#2a3f5f",
             "gridcolor": "white",
             "linecolor": "white",
             "minorgridcolor": "white",
             "startlinecolor": "#2a3f5f"
            },
            "baxis": {
             "endlinecolor": "#2a3f5f",
             "gridcolor": "white",
             "linecolor": "white",
             "minorgridcolor": "white",
             "startlinecolor": "#2a3f5f"
            },
            "type": "carpet"
           }
          ],
          "choropleth": [
           {
            "colorbar": {
             "outlinewidth": 0,
             "ticks": ""
            },
            "type": "choropleth"
           }
          ],
          "contour": [
           {
            "colorbar": {
             "outlinewidth": 0,
             "ticks": ""
            },
            "colorscale": [
             [
              0,
              "#0d0887"
             ],
             [
              0.1111111111111111,
              "#46039f"
             ],
             [
              0.2222222222222222,
              "#7201a8"
             ],
             [
              0.3333333333333333,
              "#9c179e"
             ],
             [
              0.4444444444444444,
              "#bd3786"
             ],
             [
              0.5555555555555556,
              "#d8576b"
             ],
             [
              0.6666666666666666,
              "#ed7953"
             ],
             [
              0.7777777777777778,
              "#fb9f3a"
             ],
             [
              0.8888888888888888,
              "#fdca26"
             ],
             [
              1,
              "#f0f921"
             ]
            ],
            "type": "contour"
           }
          ],
          "contourcarpet": [
           {
            "colorbar": {
             "outlinewidth": 0,
             "ticks": ""
            },
            "type": "contourcarpet"
           }
          ],
          "heatmap": [
           {
            "colorbar": {
             "outlinewidth": 0,
             "ticks": ""
            },
            "colorscale": [
             [
              0,
              "#0d0887"
             ],
             [
              0.1111111111111111,
              "#46039f"
             ],
             [
              0.2222222222222222,
              "#7201a8"
             ],
             [
              0.3333333333333333,
              "#9c179e"
             ],
             [
              0.4444444444444444,
              "#bd3786"
             ],
             [
              0.5555555555555556,
              "#d8576b"
             ],
             [
              0.6666666666666666,
              "#ed7953"
             ],
             [
              0.7777777777777778,
              "#fb9f3a"
             ],
             [
              0.8888888888888888,
              "#fdca26"
             ],
             [
              1,
              "#f0f921"
             ]
            ],
            "type": "heatmap"
           }
          ],
          "heatmapgl": [
           {
            "colorbar": {
             "outlinewidth": 0,
             "ticks": ""
            },
            "colorscale": [
             [
              0,
              "#0d0887"
             ],
             [
              0.1111111111111111,
              "#46039f"
             ],
             [
              0.2222222222222222,
              "#7201a8"
             ],
             [
              0.3333333333333333,
              "#9c179e"
             ],
             [
              0.4444444444444444,
              "#bd3786"
             ],
             [
              0.5555555555555556,
              "#d8576b"
             ],
             [
              0.6666666666666666,
              "#ed7953"
             ],
             [
              0.7777777777777778,
              "#fb9f3a"
             ],
             [
              0.8888888888888888,
              "#fdca26"
             ],
             [
              1,
              "#f0f921"
             ]
            ],
            "type": "heatmapgl"
           }
          ],
          "histogram": [
           {
            "marker": {
             "pattern": {
              "fillmode": "overlay",
              "size": 10,
              "solidity": 0.2
             }
            },
            "type": "histogram"
           }
          ],
          "histogram2d": [
           {
            "colorbar": {
             "outlinewidth": 0,
             "ticks": ""
            },
            "colorscale": [
             [
              0,
              "#0d0887"
             ],
             [
              0.1111111111111111,
              "#46039f"
             ],
             [
              0.2222222222222222,
              "#7201a8"
             ],
             [
              0.3333333333333333,
              "#9c179e"
             ],
             [
              0.4444444444444444,
              "#bd3786"
             ],
             [
              0.5555555555555556,
              "#d8576b"
             ],
             [
              0.6666666666666666,
              "#ed7953"
             ],
             [
              0.7777777777777778,
              "#fb9f3a"
             ],
             [
              0.8888888888888888,
              "#fdca26"
             ],
             [
              1,
              "#f0f921"
             ]
            ],
            "type": "histogram2d"
           }
          ],
          "histogram2dcontour": [
           {
            "colorbar": {
             "outlinewidth": 0,
             "ticks": ""
            },
            "colorscale": [
             [
              0,
              "#0d0887"
             ],
             [
              0.1111111111111111,
              "#46039f"
             ],
             [
              0.2222222222222222,
              "#7201a8"
             ],
             [
              0.3333333333333333,
              "#9c179e"
             ],
             [
              0.4444444444444444,
              "#bd3786"
             ],
             [
              0.5555555555555556,
              "#d8576b"
             ],
             [
              0.6666666666666666,
              "#ed7953"
             ],
             [
              0.7777777777777778,
              "#fb9f3a"
             ],
             [
              0.8888888888888888,
              "#fdca26"
             ],
             [
              1,
              "#f0f921"
             ]
            ],
            "type": "histogram2dcontour"
           }
          ],
          "mesh3d": [
           {
            "colorbar": {
             "outlinewidth": 0,
             "ticks": ""
            },
            "type": "mesh3d"
           }
          ],
          "parcoords": [
           {
            "line": {
             "colorbar": {
              "outlinewidth": 0,
              "ticks": ""
             }
            },
            "type": "parcoords"
           }
          ],
          "pie": [
           {
            "automargin": true,
            "type": "pie"
           }
          ],
          "scatter": [
           {
            "fillpattern": {
             "fillmode": "overlay",
             "size": 10,
             "solidity": 0.2
            },
            "type": "scatter"
           }
          ],
          "scatter3d": [
           {
            "line": {
             "colorbar": {
              "outlinewidth": 0,
              "ticks": ""
             }
            },
            "marker": {
             "colorbar": {
              "outlinewidth": 0,
              "ticks": ""
             }
            },
            "type": "scatter3d"
           }
          ],
          "scattercarpet": [
           {
            "marker": {
             "colorbar": {
              "outlinewidth": 0,
              "ticks": ""
             }
            },
            "type": "scattercarpet"
           }
          ],
          "scattergeo": [
           {
            "marker": {
             "colorbar": {
              "outlinewidth": 0,
              "ticks": ""
             }
            },
            "type": "scattergeo"
           }
          ],
          "scattergl": [
           {
            "marker": {
             "colorbar": {
              "outlinewidth": 0,
              "ticks": ""
             }
            },
            "type": "scattergl"
           }
          ],
          "scattermapbox": [
           {
            "marker": {
             "colorbar": {
              "outlinewidth": 0,
              "ticks": ""
             }
            },
            "type": "scattermapbox"
           }
          ],
          "scatterpolar": [
           {
            "marker": {
             "colorbar": {
              "outlinewidth": 0,
              "ticks": ""
             }
            },
            "type": "scatterpolar"
           }
          ],
          "scatterpolargl": [
           {
            "marker": {
             "colorbar": {
              "outlinewidth": 0,
              "ticks": ""
             }
            },
            "type": "scatterpolargl"
           }
          ],
          "scatterternary": [
           {
            "marker": {
             "colorbar": {
              "outlinewidth": 0,
              "ticks": ""
             }
            },
            "type": "scatterternary"
           }
          ],
          "surface": [
           {
            "colorbar": {
             "outlinewidth": 0,
             "ticks": ""
            },
            "colorscale": [
             [
              0,
              "#0d0887"
             ],
             [
              0.1111111111111111,
              "#46039f"
             ],
             [
              0.2222222222222222,
              "#7201a8"
             ],
             [
              0.3333333333333333,
              "#9c179e"
             ],
             [
              0.4444444444444444,
              "#bd3786"
             ],
             [
              0.5555555555555556,
              "#d8576b"
             ],
             [
              0.6666666666666666,
              "#ed7953"
             ],
             [
              0.7777777777777778,
              "#fb9f3a"
             ],
             [
              0.8888888888888888,
              "#fdca26"
             ],
             [
              1,
              "#f0f921"
             ]
            ],
            "type": "surface"
           }
          ],
          "table": [
           {
            "cells": {
             "fill": {
              "color": "#EBF0F8"
             },
             "line": {
              "color": "white"
             }
            },
            "header": {
             "fill": {
              "color": "#C8D4E3"
             },
             "line": {
              "color": "white"
             }
            },
            "type": "table"
           }
          ]
         },
         "layout": {
          "annotationdefaults": {
           "arrowcolor": "#2a3f5f",
           "arrowhead": 0,
           "arrowwidth": 1
          },
          "autotypenumbers": "strict",
          "coloraxis": {
           "colorbar": {
            "outlinewidth": 0,
            "ticks": ""
           }
          },
          "colorscale": {
           "diverging": [
            [
             0,
             "#8e0152"
            ],
            [
             0.1,
             "#c51b7d"
            ],
            [
             0.2,
             "#de77ae"
            ],
            [
             0.3,
             "#f1b6da"
            ],
            [
             0.4,
             "#fde0ef"
            ],
            [
             0.5,
             "#f7f7f7"
            ],
            [
             0.6,
             "#e6f5d0"
            ],
            [
             0.7,
             "#b8e186"
            ],
            [
             0.8,
             "#7fbc41"
            ],
            [
             0.9,
             "#4d9221"
            ],
            [
             1,
             "#276419"
            ]
           ],
           "sequential": [
            [
             0,
             "#0d0887"
            ],
            [
             0.1111111111111111,
             "#46039f"
            ],
            [
             0.2222222222222222,
             "#7201a8"
            ],
            [
             0.3333333333333333,
             "#9c179e"
            ],
            [
             0.4444444444444444,
             "#bd3786"
            ],
            [
             0.5555555555555556,
             "#d8576b"
            ],
            [
             0.6666666666666666,
             "#ed7953"
            ],
            [
             0.7777777777777778,
             "#fb9f3a"
            ],
            [
             0.8888888888888888,
             "#fdca26"
            ],
            [
             1,
             "#f0f921"
            ]
           ],
           "sequentialminus": [
            [
             0,
             "#0d0887"
            ],
            [
             0.1111111111111111,
             "#46039f"
            ],
            [
             0.2222222222222222,
             "#7201a8"
            ],
            [
             0.3333333333333333,
             "#9c179e"
            ],
            [
             0.4444444444444444,
             "#bd3786"
            ],
            [
             0.5555555555555556,
             "#d8576b"
            ],
            [
             0.6666666666666666,
             "#ed7953"
            ],
            [
             0.7777777777777778,
             "#fb9f3a"
            ],
            [
             0.8888888888888888,
             "#fdca26"
            ],
            [
             1,
             "#f0f921"
            ]
           ]
          },
          "colorway": [
           "#636efa",
           "#EF553B",
           "#00cc96",
           "#ab63fa",
           "#FFA15A",
           "#19d3f3",
           "#FF6692",
           "#B6E880",
           "#FF97FF",
           "#FECB52"
          ],
          "font": {
           "color": "#2a3f5f"
          },
          "geo": {
           "bgcolor": "white",
           "lakecolor": "white",
           "landcolor": "#E5ECF6",
           "showlakes": true,
           "showland": true,
           "subunitcolor": "white"
          },
          "hoverlabel": {
           "align": "left"
          },
          "hovermode": "closest",
          "mapbox": {
           "style": "light"
          },
          "paper_bgcolor": "white",
          "plot_bgcolor": "#E5ECF6",
          "polar": {
           "angularaxis": {
            "gridcolor": "white",
            "linecolor": "white",
            "ticks": ""
           },
           "bgcolor": "#E5ECF6",
           "radialaxis": {
            "gridcolor": "white",
            "linecolor": "white",
            "ticks": ""
           }
          },
          "scene": {
           "xaxis": {
            "backgroundcolor": "#E5ECF6",
            "gridcolor": "white",
            "gridwidth": 2,
            "linecolor": "white",
            "showbackground": true,
            "ticks": "",
            "zerolinecolor": "white"
           },
           "yaxis": {
            "backgroundcolor": "#E5ECF6",
            "gridcolor": "white",
            "gridwidth": 2,
            "linecolor": "white",
            "showbackground": true,
            "ticks": "",
            "zerolinecolor": "white"
           },
           "zaxis": {
            "backgroundcolor": "#E5ECF6",
            "gridcolor": "white",
            "gridwidth": 2,
            "linecolor": "white",
            "showbackground": true,
            "ticks": "",
            "zerolinecolor": "white"
           }
          },
          "shapedefaults": {
           "line": {
            "color": "#2a3f5f"
           }
          },
          "ternary": {
           "aaxis": {
            "gridcolor": "white",
            "linecolor": "white",
            "ticks": ""
           },
           "baxis": {
            "gridcolor": "white",
            "linecolor": "white",
            "ticks": ""
           },
           "bgcolor": "#E5ECF6",
           "caxis": {
            "gridcolor": "white",
            "linecolor": "white",
            "ticks": ""
           }
          },
          "title": {
           "x": 0.05
          },
          "xaxis": {
           "automargin": true,
           "gridcolor": "white",
           "linecolor": "white",
           "ticks": "",
           "title": {
            "standoff": 15
           },
           "zerolinecolor": "white",
           "zerolinewidth": 2
          },
          "yaxis": {
           "automargin": true,
           "gridcolor": "white",
           "linecolor": "white",
           "ticks": "",
           "title": {
            "standoff": 15
           },
           "zerolinecolor": "white",
           "zerolinewidth": 2
          }
         }
        },
        "title": {
         "text": "Shipment Mode"
        }
       }
      },
      "text/html": [
       "<div>                            <div id=\"d4305380-aaa9-4624-a17b-f6f383c92852\" class=\"plotly-graph-div\" style=\"height:525px; width:100%;\"></div>            <script type=\"text/javascript\">                require([\"plotly\"], function(Plotly) {                    window.PLOTLYENV=window.PLOTLYENV || {};                                    if (document.getElementById(\"d4305380-aaa9-4624-a17b-f6f383c92852\")) {                    Plotly.newPlot(                        \"d4305380-aaa9-4624-a17b-f6f383c92852\",                        [{\"labels\":[\"Air\",\"Truck\",\"Air Charter\",\"Ocean\"],\"values\":[53.45672959058593,34.07697965187546,7.967639127237068,4.498651630301544],\"type\":\"pie\"}],                        {\"template\":{\"data\":{\"barpolar\":[{\"marker\":{\"line\":{\"color\":\"#E5ECF6\",\"width\":0.5},\"pattern\":{\"fillmode\":\"overlay\",\"size\":10,\"solidity\":0.2}},\"type\":\"barpolar\"}],\"bar\":[{\"error_x\":{\"color\":\"#2a3f5f\"},\"error_y\":{\"color\":\"#2a3f5f\"},\"marker\":{\"line\":{\"color\":\"#E5ECF6\",\"width\":0.5},\"pattern\":{\"fillmode\":\"overlay\",\"size\":10,\"solidity\":0.2}},\"type\":\"bar\"}],\"carpet\":[{\"aaxis\":{\"endlinecolor\":\"#2a3f5f\",\"gridcolor\":\"white\",\"linecolor\":\"white\",\"minorgridcolor\":\"white\",\"startlinecolor\":\"#2a3f5f\"},\"baxis\":{\"endlinecolor\":\"#2a3f5f\",\"gridcolor\":\"white\",\"linecolor\":\"white\",\"minorgridcolor\":\"white\",\"startlinecolor\":\"#2a3f5f\"},\"type\":\"carpet\"}],\"choropleth\":[{\"colorbar\":{\"outlinewidth\":0,\"ticks\":\"\"},\"type\":\"choropleth\"}],\"contourcarpet\":[{\"colorbar\":{\"outlinewidth\":0,\"ticks\":\"\"},\"type\":\"contourcarpet\"}],\"contour\":[{\"colorbar\":{\"outlinewidth\":0,\"ticks\":\"\"},\"colorscale\":[[0.0,\"#0d0887\"],[0.1111111111111111,\"#46039f\"],[0.2222222222222222,\"#7201a8\"],[0.3333333333333333,\"#9c179e\"],[0.4444444444444444,\"#bd3786\"],[0.5555555555555556,\"#d8576b\"],[0.6666666666666666,\"#ed7953\"],[0.7777777777777778,\"#fb9f3a\"],[0.8888888888888888,\"#fdca26\"],[1.0,\"#f0f921\"]],\"type\":\"contour\"}],\"heatmapgl\":[{\"colorbar\":{\"outlinewidth\":0,\"ticks\":\"\"},\"colorscale\":[[0.0,\"#0d0887\"],[0.1111111111111111,\"#46039f\"],[0.2222222222222222,\"#7201a8\"],[0.3333333333333333,\"#9c179e\"],[0.4444444444444444,\"#bd3786\"],[0.5555555555555556,\"#d8576b\"],[0.6666666666666666,\"#ed7953\"],[0.7777777777777778,\"#fb9f3a\"],[0.8888888888888888,\"#fdca26\"],[1.0,\"#f0f921\"]],\"type\":\"heatmapgl\"}],\"heatmap\":[{\"colorbar\":{\"outlinewidth\":0,\"ticks\":\"\"},\"colorscale\":[[0.0,\"#0d0887\"],[0.1111111111111111,\"#46039f\"],[0.2222222222222222,\"#7201a8\"],[0.3333333333333333,\"#9c179e\"],[0.4444444444444444,\"#bd3786\"],[0.5555555555555556,\"#d8576b\"],[0.6666666666666666,\"#ed7953\"],[0.7777777777777778,\"#fb9f3a\"],[0.8888888888888888,\"#fdca26\"],[1.0,\"#f0f921\"]],\"type\":\"heatmap\"}],\"histogram2dcontour\":[{\"colorbar\":{\"outlinewidth\":0,\"ticks\":\"\"},\"colorscale\":[[0.0,\"#0d0887\"],[0.1111111111111111,\"#46039f\"],[0.2222222222222222,\"#7201a8\"],[0.3333333333333333,\"#9c179e\"],[0.4444444444444444,\"#bd3786\"],[0.5555555555555556,\"#d8576b\"],[0.6666666666666666,\"#ed7953\"],[0.7777777777777778,\"#fb9f3a\"],[0.8888888888888888,\"#fdca26\"],[1.0,\"#f0f921\"]],\"type\":\"histogram2dcontour\"}],\"histogram2d\":[{\"colorbar\":{\"outlinewidth\":0,\"ticks\":\"\"},\"colorscale\":[[0.0,\"#0d0887\"],[0.1111111111111111,\"#46039f\"],[0.2222222222222222,\"#7201a8\"],[0.3333333333333333,\"#9c179e\"],[0.4444444444444444,\"#bd3786\"],[0.5555555555555556,\"#d8576b\"],[0.6666666666666666,\"#ed7953\"],[0.7777777777777778,\"#fb9f3a\"],[0.8888888888888888,\"#fdca26\"],[1.0,\"#f0f921\"]],\"type\":\"histogram2d\"}],\"histogram\":[{\"marker\":{\"pattern\":{\"fillmode\":\"overlay\",\"size\":10,\"solidity\":0.2}},\"type\":\"histogram\"}],\"mesh3d\":[{\"colorbar\":{\"outlinewidth\":0,\"ticks\":\"\"},\"type\":\"mesh3d\"}],\"parcoords\":[{\"line\":{\"colorbar\":{\"outlinewidth\":0,\"ticks\":\"\"}},\"type\":\"parcoords\"}],\"pie\":[{\"automargin\":true,\"type\":\"pie\"}],\"scatter3d\":[{\"line\":{\"colorbar\":{\"outlinewidth\":0,\"ticks\":\"\"}},\"marker\":{\"colorbar\":{\"outlinewidth\":0,\"ticks\":\"\"}},\"type\":\"scatter3d\"}],\"scattercarpet\":[{\"marker\":{\"colorbar\":{\"outlinewidth\":0,\"ticks\":\"\"}},\"type\":\"scattercarpet\"}],\"scattergeo\":[{\"marker\":{\"colorbar\":{\"outlinewidth\":0,\"ticks\":\"\"}},\"type\":\"scattergeo\"}],\"scattergl\":[{\"marker\":{\"colorbar\":{\"outlinewidth\":0,\"ticks\":\"\"}},\"type\":\"scattergl\"}],\"scattermapbox\":[{\"marker\":{\"colorbar\":{\"outlinewidth\":0,\"ticks\":\"\"}},\"type\":\"scattermapbox\"}],\"scatterpolargl\":[{\"marker\":{\"colorbar\":{\"outlinewidth\":0,\"ticks\":\"\"}},\"type\":\"scatterpolargl\"}],\"scatterpolar\":[{\"marker\":{\"colorbar\":{\"outlinewidth\":0,\"ticks\":\"\"}},\"type\":\"scatterpolar\"}],\"scatter\":[{\"fillpattern\":{\"fillmode\":\"overlay\",\"size\":10,\"solidity\":0.2},\"type\":\"scatter\"}],\"scatterternary\":[{\"marker\":{\"colorbar\":{\"outlinewidth\":0,\"ticks\":\"\"}},\"type\":\"scatterternary\"}],\"surface\":[{\"colorbar\":{\"outlinewidth\":0,\"ticks\":\"\"},\"colorscale\":[[0.0,\"#0d0887\"],[0.1111111111111111,\"#46039f\"],[0.2222222222222222,\"#7201a8\"],[0.3333333333333333,\"#9c179e\"],[0.4444444444444444,\"#bd3786\"],[0.5555555555555556,\"#d8576b\"],[0.6666666666666666,\"#ed7953\"],[0.7777777777777778,\"#fb9f3a\"],[0.8888888888888888,\"#fdca26\"],[1.0,\"#f0f921\"]],\"type\":\"surface\"}],\"table\":[{\"cells\":{\"fill\":{\"color\":\"#EBF0F8\"},\"line\":{\"color\":\"white\"}},\"header\":{\"fill\":{\"color\":\"#C8D4E3\"},\"line\":{\"color\":\"white\"}},\"type\":\"table\"}]},\"layout\":{\"annotationdefaults\":{\"arrowcolor\":\"#2a3f5f\",\"arrowhead\":0,\"arrowwidth\":1},\"autotypenumbers\":\"strict\",\"coloraxis\":{\"colorbar\":{\"outlinewidth\":0,\"ticks\":\"\"}},\"colorscale\":{\"diverging\":[[0,\"#8e0152\"],[0.1,\"#c51b7d\"],[0.2,\"#de77ae\"],[0.3,\"#f1b6da\"],[0.4,\"#fde0ef\"],[0.5,\"#f7f7f7\"],[0.6,\"#e6f5d0\"],[0.7,\"#b8e186\"],[0.8,\"#7fbc41\"],[0.9,\"#4d9221\"],[1,\"#276419\"]],\"sequential\":[[0.0,\"#0d0887\"],[0.1111111111111111,\"#46039f\"],[0.2222222222222222,\"#7201a8\"],[0.3333333333333333,\"#9c179e\"],[0.4444444444444444,\"#bd3786\"],[0.5555555555555556,\"#d8576b\"],[0.6666666666666666,\"#ed7953\"],[0.7777777777777778,\"#fb9f3a\"],[0.8888888888888888,\"#fdca26\"],[1.0,\"#f0f921\"]],\"sequentialminus\":[[0.0,\"#0d0887\"],[0.1111111111111111,\"#46039f\"],[0.2222222222222222,\"#7201a8\"],[0.3333333333333333,\"#9c179e\"],[0.4444444444444444,\"#bd3786\"],[0.5555555555555556,\"#d8576b\"],[0.6666666666666666,\"#ed7953\"],[0.7777777777777778,\"#fb9f3a\"],[0.8888888888888888,\"#fdca26\"],[1.0,\"#f0f921\"]]},\"colorway\":[\"#636efa\",\"#EF553B\",\"#00cc96\",\"#ab63fa\",\"#FFA15A\",\"#19d3f3\",\"#FF6692\",\"#B6E880\",\"#FF97FF\",\"#FECB52\"],\"font\":{\"color\":\"#2a3f5f\"},\"geo\":{\"bgcolor\":\"white\",\"lakecolor\":\"white\",\"landcolor\":\"#E5ECF6\",\"showlakes\":true,\"showland\":true,\"subunitcolor\":\"white\"},\"hoverlabel\":{\"align\":\"left\"},\"hovermode\":\"closest\",\"mapbox\":{\"style\":\"light\"},\"paper_bgcolor\":\"white\",\"plot_bgcolor\":\"#E5ECF6\",\"polar\":{\"angularaxis\":{\"gridcolor\":\"white\",\"linecolor\":\"white\",\"ticks\":\"\"},\"bgcolor\":\"#E5ECF6\",\"radialaxis\":{\"gridcolor\":\"white\",\"linecolor\":\"white\",\"ticks\":\"\"}},\"scene\":{\"xaxis\":{\"backgroundcolor\":\"#E5ECF6\",\"gridcolor\":\"white\",\"gridwidth\":2,\"linecolor\":\"white\",\"showbackground\":true,\"ticks\":\"\",\"zerolinecolor\":\"white\"},\"yaxis\":{\"backgroundcolor\":\"#E5ECF6\",\"gridcolor\":\"white\",\"gridwidth\":2,\"linecolor\":\"white\",\"showbackground\":true,\"ticks\":\"\",\"zerolinecolor\":\"white\"},\"zaxis\":{\"backgroundcolor\":\"#E5ECF6\",\"gridcolor\":\"white\",\"gridwidth\":2,\"linecolor\":\"white\",\"showbackground\":true,\"ticks\":\"\",\"zerolinecolor\":\"white\"}},\"shapedefaults\":{\"line\":{\"color\":\"#2a3f5f\"}},\"ternary\":{\"aaxis\":{\"gridcolor\":\"white\",\"linecolor\":\"white\",\"ticks\":\"\"},\"baxis\":{\"gridcolor\":\"white\",\"linecolor\":\"white\",\"ticks\":\"\"},\"bgcolor\":\"#E5ECF6\",\"caxis\":{\"gridcolor\":\"white\",\"linecolor\":\"white\",\"ticks\":\"\"}},\"title\":{\"x\":0.05},\"xaxis\":{\"automargin\":true,\"gridcolor\":\"white\",\"linecolor\":\"white\",\"ticks\":\"\",\"title\":{\"standoff\":15},\"zerolinecolor\":\"white\",\"zerolinewidth\":2},\"yaxis\":{\"automargin\":true,\"gridcolor\":\"white\",\"linecolor\":\"white\",\"ticks\":\"\",\"title\":{\"standoff\":15},\"zerolinecolor\":\"white\",\"zerolinewidth\":2}}},\"title\":{\"text\":\"Shipment Mode\"}},                        {\"responsive\": true}                    ).then(function(){\n",
       "                            \n",
       "var gd = document.getElementById('d4305380-aaa9-4624-a17b-f6f383c92852');\n",
       "var x = new MutationObserver(function (mutations, observer) {{\n",
       "        var display = window.getComputedStyle(gd).display;\n",
       "        if (!display || display === 'none') {{\n",
       "            console.log([gd, 'removed!']);\n",
       "            Plotly.purge(gd);\n",
       "            observer.disconnect();\n",
       "        }}\n",
       "}});\n",
       "\n",
       "// Listen for the removal of the full notebook cells\n",
       "var notebookContainer = gd.closest('#notebook-container');\n",
       "if (notebookContainer) {{\n",
       "    x.observe(notebookContainer, {childList: true});\n",
       "}}\n",
       "\n",
       "// Listen for the clearing of the current output cell\n",
       "var outputEl = gd.closest('.output');\n",
       "if (outputEl) {{\n",
       "    x.observe(outputEl, {childList: true});\n",
       "}}\n",
       "\n",
       "                        })                };                });            </script>        </div>"
      ]
     },
     "metadata": {},
     "output_type": "display_data"
    }
   ],
   "source": [
    "ShippingMode = df[\"Shipment Mode\"].value_counts()\n",
    "labels = (np.array(ShippingMode.index))\n",
    "sizes = (np.array((ShippingMode / ShippingMode.sum())*100))\n",
    "\n",
    "trace = go.Pie(labels=labels, values=sizes)\n",
    "layout = go.Layout(title=\"Shipment Mode\")\n",
    "dat = [trace]\n",
    "fig = go.Figure(data=dat, layout=layout)\n",
    "py.iplot(fig, filename=\"Shipment Mode\")\n"
   ]
  },
  {
   "cell_type": "markdown",
   "id": "3e5b2b66",
   "metadata": {},
   "source": [
    "# UNIQUE MANUFACTURING SITE NAMES"
   ]
  },
  {
   "cell_type": "code",
   "execution_count": 62,
   "id": "44ae5163",
   "metadata": {},
   "outputs": [
    {
     "name": "stdout",
     "output_type": "stream",
     "text": [
      "All Unique Manufacturing Site \n",
      "\n",
      "['BMS Meymac, France' 'Aurobindo Unit III, India'\n",
      " 'ABBVIE Ludwigshafen Germany' 'Gilead(Nycomed) Oranienburg DE'\n",
      " 'Ranbaxy, Paonta Shahib, India' 'Mylan (formerly Matrix) Nashik'\n",
      " 'Roche Basel' 'GSK Ware (UK)' 'Novartis Pharma AG, Switzerland'\n",
      " 'BI, Ingelheim, Germany' 'Ipca Dadra/Nagar Haveli IN' 'MSD, Haarlem, NL'\n",
      " 'Aspen-OSD, Port Elizabeth, SA' 'ABBVIE (Abbott) Logis. UK'\n",
      " 'Gland Pharma Ltd Pally Factory' 'Cipla, Goa, India'\n",
      " 'GSK Mississauga (Canada)' 'GSK Aranda' 'Hetero Unit III Hyderabad IN'\n",
      " 'ABBVIE (Abbott) France' 'Strides, Bangalore, India.'\n",
      " 'GSK Cape Town Factory (South Africa)' \"MSD Midrand, J'burg, SA\"\n",
      " 'Boehringer Ing., Koropi, GR' 'GSK Crawley'\n",
      " 'Novartis Pharma Suffern, USA' 'Micro Labs Ltd. (Brown & Burk), India'\n",
      " 'Meditab (for Cipla) Daman IN' 'Medopharm Malur Factory, INDIA'\n",
      " 'Weifa A.S., Hausmanngt. 6, P.O. Box 9113 GrÃ¸nland, 0133, Oslo, Norway'\n",
      " 'MSD Manati, Puerto Rico, (USA)'\n",
      " 'Emcure Plot No.P-2, I.T-B.T. Park, Phase II, MIDC, Hinjwadi, Pune, India'\n",
      " 'MSD Elkton USA' 'ABBVIE Labs North Chicago US'\n",
      " 'Janssen-Cilag, Latina, IT' 'Aurobindo Unit VII, IN'\n",
      " 'Micro labs, Verna, Goa, India' 'Mylan,  H-12 & H-13, India'\n",
      " 'Hetero, Jadcherla, unit 5, IN' 'Roche Madrid'\n",
      " 'Bristol-Myers Squibb Anagni IT' 'Cipla Ltd A-42 MIDC Mahar. IN'\n",
      " 'Medochemie Factory A, CY' 'Boehringer Ingelheim Roxane US'\n",
      " 'BMS Evansville, US' 'GSK, U1, Poznan, Poland'\n",
      " 'Janssen Ortho LLC, Puerto Rico' \"ABBVIE (Abbott) St. P'burg USA\"\n",
      " 'Micro Labs, Hosur, India' 'Cipla, Patalganga, India'\n",
      " 'Remedica, Limassol, Cyprus' 'Guilin OSD site, No 17, China'\n",
      " 'Cipla, Kurkumbh, India' 'GSK Barnard Castle UK'\n",
      " 'Gland Pharma, Hyderabad, IN' 'MSD Patheon, Canada'\n",
      " 'Mepro Pharm Wadhwan Unit II' 'Ranbaxy per Shasun Pharma Ltd'\n",
      " 'Ranbaxy per Shasun Pharma' 'Macleods Daman Plant INDIA']\n"
     ]
    }
   ],
   "source": [
    "UniqueItem = df['Manufacturing Site'].unique()\n",
    "print(\"All Unique Manufacturing Site \\n\")\n",
    "print(UniqueItem)"
   ]
  },
  {
   "cell_type": "markdown",
   "id": "e1ad9a19",
   "metadata": {},
   "source": [
    "# Shipment Mode, Min and Mean value for Air"
   ]
  },
  {
   "cell_type": "code",
   "execution_count": 63,
   "id": "cc71afc0",
   "metadata": {},
   "outputs": [
    {
     "name": "stdout",
     "output_type": "stream",
     "text": [
      "The Max Air Shipment Mode is : 1000\n",
      "The Min Air Shipment is : 5\n",
      "The Mean Air Shipment is : 89.33\n"
     ]
    }
   ],
   "source": [
    "Itemdata=df[df['Shipment Mode']=='Air']\n",
    "print (\"The Max Air Shipment Mode is :\",Itemdata['Unit of Measure (Per Pack)'].max())\n",
    "print (\"The Min Air Shipment is :\",Itemdata['Unit of Measure (Per Pack)'].min())\n",
    "ItemTypeMean = Itemdata['Unit of Measure (Per Pack)'].mean()\n",
    "print (\"The Mean Air Shipment is :\", round(ItemTypeMean,2))"
   ]
  },
  {
   "cell_type": "markdown",
   "id": "525d36c4",
   "metadata": {},
   "source": [
    "# Top 10 Manufacturing Site for all Shipment Mode with Graph"
   ]
  },
  {
   "cell_type": "code",
   "execution_count": 64,
   "id": "3d6a4158",
   "metadata": {},
   "outputs": [
    {
     "name": "stdout",
     "output_type": "stream",
     "text": [
      "Manufacturing Site\n",
      "Aurobindo Unit III, India         2978\n",
      "Mylan (formerly Matrix) Nashik    1407\n",
      "Hetero Unit III Hyderabad IN       868\n",
      "Cipla, Goa, India                  624\n",
      "Strides, Bangalore, India.         528\n",
      "ABBVIE Ludwigshafen Germany        350\n",
      "ABBVIE (Abbott) Logis. UK          204\n",
      "BMS Meymac, France                 129\n",
      "Aspen-OSD, Port Elizabeth, SA      125\n",
      "MSD, Haarlem, NL                   117\n",
      "dtype: int64\n"
     ]
    },
    {
     "data": {
      "text/plain": [
       "Text(0.5, 0, 'Manufacturing Site Name')"
      ]
     },
     "execution_count": 64,
     "metadata": {},
     "output_type": "execute_result"
    },
    {
     "data": {
      "image/png": "[encoded data removed]",
      "text/plain": [
       "<Figure size 1584x432 with 1 Axes>"
      ]
     },
     "metadata": {
      "needs_background": "light"
     },
     "output_type": "display_data"
    }
   ],
   "source": [
    "plt.figure(figsize=(22,6))\n",
    "TopFiveManufacturingSite=df.groupby('Manufacturing Site').size().nlargest(10)\n",
    "print(TopFiveManufacturingSite)\n",
    "TopFiveManufacturingSite.plot(kind='bar')\n",
    "plt.title('Top 10 Manufacturing Site \\n')\n",
    "plt.ylabel('Total Count')\n",
    "plt.xlabel('Manufacturing Site Name')"
   ]
  },
  {
   "cell_type": "markdown",
   "id": "c64b16d5",
   "metadata": {},
   "source": [
    "# Top 10 Manufacturing Site for Air Shipment Mode with Graph"
   ]
  },
  {
   "cell_type": "code",
   "execution_count": 65,
   "id": "d2fafda1",
   "metadata": {},
   "outputs": [
    {
     "name": "stdout",
     "output_type": "stream",
     "text": [
      "Top 10 Air Manufacturing Site \n",
      "\n",
      "Aurobindo Unit III, India         1641\n",
      "Mylan (formerly Matrix) Nashik     695\n",
      "Hetero Unit III Hyderabad IN       417\n",
      "ABBVIE Ludwigshafen Germany        281\n",
      "Cipla, Goa, India                  264\n",
      "Strides, Bangalore, India.         251\n",
      "ABBVIE (Abbott) Logis. UK          147\n",
      "MSD, Haarlem, NL                    90\n",
      "BMS Meymac, France                  83\n",
      "Aspen-OSD, Port Elizabeth, SA       80\n",
      "Name: Manufacturing Site, dtype: int64\n"
     ]
    },
    {
     "data": {
      "text/plain": [
       "Text(0.5, 0, 'Manufacturing Site')"
      ]
     },
     "execution_count": 65,
     "metadata": {},
     "output_type": "execute_result"
    },
    {
     "data": {
      "image/png": "[encoded data removed]",
      "text/plain": [
       "<Figure size 1584x432 with 1 Axes>"
      ]
     },
     "metadata": {
      "needs_background": "light"
     },
     "output_type": "display_data"
    }
   ],
   "source": [
    "# Top 10 Air Shipment Mode in Bar Chart\n",
    "ItemData=df[df['Shipment Mode']=='Air']\n",
    "df[df[\"Shipment Mode\"]=='Air']['Manufacturing Site'].value_counts()[0:10].to_frame().plot.bar(figsize=(22,6))\n",
    "ItemSupplier = df[df[\"Shipment Mode\"]=='Air']['Manufacturing Site'].value_counts()[0:10]\n",
    "print(\"Top 10 Air Manufacturing Site \\n\")\n",
    "print(ItemSupplier)\n",
    "plt.title('Top 10 Air Manufacturing Site\\n')\n",
    "plt.ylabel('Air Count')\n",
    "plt.xlabel('Manufacturing Site')"
   ]
  },
  {
   "cell_type": "markdown",
   "id": "26e664bd",
   "metadata": {},
   "source": [
    "# Shipment Mode and Pack Price in Bar Plot Graph"
   ]
  },
  {
   "cell_type": "code",
   "execution_count": 66,
   "id": "69201852",
   "metadata": {},
   "outputs": [
    {
     "data": {
      "image/png": "[encoded data removed]",
      "text/plain": [
       "<Figure size 1296x432 with 1 Axes>"
      ]
     },
     "metadata": {
      "needs_background": "light"
     },
     "output_type": "display_data"
    }
   ],
   "source": [
    "plt.subplots(figsize = (18,6))\n",
    "plt.xticks(rotation = 90)\n",
    "sn.barplot('Shipment Mode','Pack Price', data = df)\n",
    "plt.show()"
   ]
  },
  {
   "cell_type": "markdown",
   "id": "cbc90a94",
   "metadata": {},
   "source": [
    "# Conclusion"
   ]
  },
  {
   "cell_type": "raw",
   "id": "66ea8d75",
   "metadata": {},
   "source": [
    "Top Country for Pack Price : Nigeria - 25,620.72\n",
    "Top Shipping Mode : Air\n",
    "The Max Air Shipment Mode is : 1000\n",
    "The Min Air Shipment is : 1\n",
    "The Mean Air Shipment is : 82.35\n",
    "Top Manufacturing Site : Aurobindo Unit III, India - 3172\n",
    "Top Air Manufacturing Site : Aurobindo Unit III, India - 1694"
   ]
  },
  {
   "cell_type": "code",
   "execution_count": null,
   "id": "aea256d4",
   "metadata": {},
   "outputs": [],
   "source": []
  }
 ],
 "metadata": {
  "kernelspec": {
   "display_name": "Python 3 (ipykernel)",
   "language": "python",
   "name": "python3"
  },
  "language_info": {
   "codemirror_mode": {
    "name": "ipython",
    "version": 3
   },
   "file_extension": ".py",
   "mimetype": "text/x-python",
   "name": "python",
   "nbconvert_exporter": "python",
   "pygments_lexer": "ipython3",
   "version": "3.9.7"
  }
 },
 "nbformat": 4,
 "nbformat_minor": 5
}
